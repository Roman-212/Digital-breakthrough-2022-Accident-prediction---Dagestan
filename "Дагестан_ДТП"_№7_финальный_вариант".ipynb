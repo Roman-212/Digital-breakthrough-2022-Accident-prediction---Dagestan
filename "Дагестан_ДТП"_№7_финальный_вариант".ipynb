{
  "nbformat": 4,
  "nbformat_minor": 0,
  "metadata": {
    "colab": {
      "name": "\"Дагестан_ДТП\" №7_финальный вариант\"",
      "provenance": [],
      "collapsed_sections": [],
      "authorship_tag": "ABX9TyPDq2NHl1Bl7ng3ykjoMzqO",
      "include_colab_link": true
    },
    "kernelspec": {
      "name": "python3",
      "display_name": "Python 3"
    },
    "language_info": {
      "name": "python"
    }
  },
  "cells": [
    {
      "cell_type": "markdown",
      "metadata": {
        "id": "view-in-github",
        "colab_type": "text"
      },
      "source": [
        "<a href=\"https://colab.research.google.com/github/Roman-212/Digital-breakthrough-2022-Accident-prediction---Dagestan/blob/main/%22%D0%94%D0%B0%D0%B3%D0%B5%D1%81%D1%82%D0%B0%D0%BD_%D0%94%D0%A2%D0%9F%22_%E2%84%967_%D1%84%D0%B8%D0%BD%D0%B0%D0%BB%D1%8C%D0%BD%D1%8B%D0%B9_%D0%B2%D0%B0%D1%80%D0%B8%D0%B0%D0%BD%D1%82%22.ipynb\" target=\"_parent\"><img src=\"https://colab.research.google.com/assets/colab-badge.svg\" alt=\"Open In Colab\"/></a>"
      ]
    },
    {
      "cell_type": "code",
      "execution_count": 1,
      "metadata": {
        "id": "mdRQeYxjcWT-"
      },
      "outputs": [],
      "source": [
        "import numpy as np #Библиотека работы с массивами\n",
        "import pandas as pd # Библиотека для работы с базами\n",
        "import time # Импортируем библиотеку time\n",
        "from datetime import datetime\n",
        "\n",
        "from tensorflow.keras.models import Sequential, Model # \n",
        "from tensorflow.keras.layers import concatenate, Input, Dense, Dropout, BatchNormalization, Flatten #\n",
        "from tensorflow.keras import utils #Используем для to_categoricall\n",
        "from tensorflow.keras.optimizers import Adam,Adadelta,SGD,Adagrad,RMSprop #\n",
        "from tensorflow.keras.preprocessing.text import Tokenizer, text_to_word_sequence #\n",
        "from tensorflow.keras.preprocessing.sequence import pad_sequences #\n",
        "from tensorflow.keras.callbacks import LambdaCallback # подключаем колбэки\n",
        "from tensorflow.keras.callbacks import ModelCheckpoint # Для колбека\n",
        "\n",
        "from sklearn.preprocessing import LabelEncoder # Метод кодирования тестовых лейблов\n",
        "from sklearn.preprocessing import StandardScaler # \n",
        "from sklearn.model_selection import train_test_split # Для разбивки на выборки\n",
        "from sklearn.metrics import mean_squared_error, mean_absolute_error #\n",
        "#from google.colab import files #Для загрузки своей картинки\n",
        "\n",
        "import random #Для генерации случайных чисел \n",
        "import math # Для округления\n",
        "#import os #Для работы с файлами \n",
        "import re #\n",
        "import matplotlib.pyplot as plt #\n",
        "%matplotlib inline\n",
        "\n",
        "from IPython.display import clear_output"
      ]
    },
    {
      "cell_type": "code",
      "source": [
        "from google.colab import drive # Подключаем диск\n",
        "drive.mount('/content/drive')"
      ],
      "metadata": {
        "colab": {
          "base_uri": "https://localhost:8080/"
        },
        "id": "xjn4Cj1scsRF",
        "outputId": "a7daa952-6b2a-4ea9-bd03-6dd01d05204d"
      },
      "execution_count": 2,
      "outputs": [
        {
          "output_type": "stream",
          "name": "stdout",
          "text": [
            "Mounted at /content/drive\n"
          ]
        }
      ]
    },
    {
      "cell_type": "code",
      "source": [
        "df = pd.read_csv('/content/drive/MyDrive/Предобученные сети/Дагенстан_ДТП/train_dataset_train.csv')\n",
        "df_test = pd.read_csv('/content/drive/MyDrive/Предобученные сети/Дагенстан_ДТП/test_dataset_test.csv')"
      ],
      "metadata": {
        "id": "Qxg2sFGRcsp1"
      },
      "execution_count": 3,
      "outputs": []
    },
    {
      "cell_type": "code",
      "source": [
        "df['Вид ДТП'].fillna(value='Не известно', inplace=True) # Заменим пропуски на 'Иной вид ДТП'"
      ],
      "metadata": {
        "id": "hGfTUfSUdxu7"
      },
      "execution_count": 4,
      "outputs": []
    },
    {
      "cell_type": "code",
      "source": [
        "df.drop(df.columns[[0,4,5,6,7,8]], axis=1, inplace=True) # Удаляем лишнии столбцы"
      ],
      "metadata": {
        "id": "ByvEvESxZ9_W"
      },
      "execution_count": 5,
      "outputs": []
    },
    {
      "cell_type": "code",
      "source": [
        "df"
      ],
      "metadata": {
        "colab": {
          "base_uri": "https://localhost:8080/",
          "height": 424
        },
        "id": "tk_napYIh9A1",
        "outputId": "0563b31a-b90a-45de-de87-4260dae027b6"
      },
      "execution_count": 6,
      "outputs": [
        {
          "output_type": "execute_result",
          "data": {
            "text/plain": [
              "             Дата     Время  \\\n",
              "0      13.07.2018  17:35:00   \n",
              "1      11.05.2018  17:10:00   \n",
              "2      25.01.2020  14:44:00   \n",
              "3      11.05.2020  11:30:00   \n",
              "4      09.01.2019  01:45:00   \n",
              "...           ...       ...   \n",
              "35766  15.05.2019  07:35:00   \n",
              "35767  15.10.2019  08:45:00   \n",
              "35768  10.03.2019  09:00:00   \n",
              "35769  13.09.2020  05:40:00   \n",
              "35770  25.01.2018  18:45:00   \n",
              "\n",
              "                                                   Место              Вид ДТП  \\\n",
              "0                 Новгородская область, Великий Новгород         Столкновение   \n",
              "1                 Новгородская область, Великий Новгород         Столкновение   \n",
              "2                 Новгородская область, Великий Новгород          Не известно   \n",
              "3      Новгородская область, Новгородский район, Сави...          Не известно   \n",
              "4                 Новгородская область, Окуловский район         Иной вид ДТП   \n",
              "...                                                  ...                  ...   \n",
              "35766             Новгородская область, Великий Новгород         Столкновение   \n",
              "35767             Новгородская область, Великий Новгород         Столкновение   \n",
              "35768  Новгородская область, Старорусский район, Стар...  Наезд на стоящее ТС   \n",
              "35769           Новгородская область, Новгородский район          Не известно   \n",
              "35770             Новгородская область, Поддорский район  Наезд на стоящее ТС   \n",
              "\n",
              "       Погибло  Погибло детей  Ранено  Ранено детей  \n",
              "0            0              0       0             0  \n",
              "1            0              0       0             0  \n",
              "2            0              0       0             0  \n",
              "3            0              0       0             0  \n",
              "4            0              0       0             0  \n",
              "...        ...            ...     ...           ...  \n",
              "35766        0              0       0             0  \n",
              "35767        0              0       0             0  \n",
              "35768        0              0       0             0  \n",
              "35769        0              0       0             0  \n",
              "35770        0              0       0             0  \n",
              "\n",
              "[35771 rows x 8 columns]"
            ],
            "text/html": [
              "\n",
              "  <div id=\"df-15be341a-1b16-4778-80b1-10b30a13b150\">\n",
              "    <div class=\"colab-df-container\">\n",
              "      <div>\n",
              "<style scoped>\n",
              "    .dataframe tbody tr th:only-of-type {\n",
              "        vertical-align: middle;\n",
              "    }\n",
              "\n",
              "    .dataframe tbody tr th {\n",
              "        vertical-align: top;\n",
              "    }\n",
              "\n",
              "    .dataframe thead th {\n",
              "        text-align: right;\n",
              "    }\n",
              "</style>\n",
              "<table border=\"1\" class=\"dataframe\">\n",
              "  <thead>\n",
              "    <tr style=\"text-align: right;\">\n",
              "      <th></th>\n",
              "      <th>Дата</th>\n",
              "      <th>Время</th>\n",
              "      <th>Место</th>\n",
              "      <th>Вид ДТП</th>\n",
              "      <th>Погибло</th>\n",
              "      <th>Погибло детей</th>\n",
              "      <th>Ранено</th>\n",
              "      <th>Ранено детей</th>\n",
              "    </tr>\n",
              "  </thead>\n",
              "  <tbody>\n",
              "    <tr>\n",
              "      <th>0</th>\n",
              "      <td>13.07.2018</td>\n",
              "      <td>17:35:00</td>\n",
              "      <td>Новгородская область, Великий Новгород</td>\n",
              "      <td>Столкновение</td>\n",
              "      <td>0</td>\n",
              "      <td>0</td>\n",
              "      <td>0</td>\n",
              "      <td>0</td>\n",
              "    </tr>\n",
              "    <tr>\n",
              "      <th>1</th>\n",
              "      <td>11.05.2018</td>\n",
              "      <td>17:10:00</td>\n",
              "      <td>Новгородская область, Великий Новгород</td>\n",
              "      <td>Столкновение</td>\n",
              "      <td>0</td>\n",
              "      <td>0</td>\n",
              "      <td>0</td>\n",
              "      <td>0</td>\n",
              "    </tr>\n",
              "    <tr>\n",
              "      <th>2</th>\n",
              "      <td>25.01.2020</td>\n",
              "      <td>14:44:00</td>\n",
              "      <td>Новгородская область, Великий Новгород</td>\n",
              "      <td>Не известно</td>\n",
              "      <td>0</td>\n",
              "      <td>0</td>\n",
              "      <td>0</td>\n",
              "      <td>0</td>\n",
              "    </tr>\n",
              "    <tr>\n",
              "      <th>3</th>\n",
              "      <td>11.05.2020</td>\n",
              "      <td>11:30:00</td>\n",
              "      <td>Новгородская область, Новгородский район, Сави...</td>\n",
              "      <td>Не известно</td>\n",
              "      <td>0</td>\n",
              "      <td>0</td>\n",
              "      <td>0</td>\n",
              "      <td>0</td>\n",
              "    </tr>\n",
              "    <tr>\n",
              "      <th>4</th>\n",
              "      <td>09.01.2019</td>\n",
              "      <td>01:45:00</td>\n",
              "      <td>Новгородская область, Окуловский район</td>\n",
              "      <td>Иной вид ДТП</td>\n",
              "      <td>0</td>\n",
              "      <td>0</td>\n",
              "      <td>0</td>\n",
              "      <td>0</td>\n",
              "    </tr>\n",
              "    <tr>\n",
              "      <th>...</th>\n",
              "      <td>...</td>\n",
              "      <td>...</td>\n",
              "      <td>...</td>\n",
              "      <td>...</td>\n",
              "      <td>...</td>\n",
              "      <td>...</td>\n",
              "      <td>...</td>\n",
              "      <td>...</td>\n",
              "    </tr>\n",
              "    <tr>\n",
              "      <th>35766</th>\n",
              "      <td>15.05.2019</td>\n",
              "      <td>07:35:00</td>\n",
              "      <td>Новгородская область, Великий Новгород</td>\n",
              "      <td>Столкновение</td>\n",
              "      <td>0</td>\n",
              "      <td>0</td>\n",
              "      <td>0</td>\n",
              "      <td>0</td>\n",
              "    </tr>\n",
              "    <tr>\n",
              "      <th>35767</th>\n",
              "      <td>15.10.2019</td>\n",
              "      <td>08:45:00</td>\n",
              "      <td>Новгородская область, Великий Новгород</td>\n",
              "      <td>Столкновение</td>\n",
              "      <td>0</td>\n",
              "      <td>0</td>\n",
              "      <td>0</td>\n",
              "      <td>0</td>\n",
              "    </tr>\n",
              "    <tr>\n",
              "      <th>35768</th>\n",
              "      <td>10.03.2019</td>\n",
              "      <td>09:00:00</td>\n",
              "      <td>Новгородская область, Старорусский район, Стар...</td>\n",
              "      <td>Наезд на стоящее ТС</td>\n",
              "      <td>0</td>\n",
              "      <td>0</td>\n",
              "      <td>0</td>\n",
              "      <td>0</td>\n",
              "    </tr>\n",
              "    <tr>\n",
              "      <th>35769</th>\n",
              "      <td>13.09.2020</td>\n",
              "      <td>05:40:00</td>\n",
              "      <td>Новгородская область, Новгородский район</td>\n",
              "      <td>Не известно</td>\n",
              "      <td>0</td>\n",
              "      <td>0</td>\n",
              "      <td>0</td>\n",
              "      <td>0</td>\n",
              "    </tr>\n",
              "    <tr>\n",
              "      <th>35770</th>\n",
              "      <td>25.01.2018</td>\n",
              "      <td>18:45:00</td>\n",
              "      <td>Новгородская область, Поддорский район</td>\n",
              "      <td>Наезд на стоящее ТС</td>\n",
              "      <td>0</td>\n",
              "      <td>0</td>\n",
              "      <td>0</td>\n",
              "      <td>0</td>\n",
              "    </tr>\n",
              "  </tbody>\n",
              "</table>\n",
              "<p>35771 rows × 8 columns</p>\n",
              "</div>\n",
              "      <button class=\"colab-df-convert\" onclick=\"convertToInteractive('df-15be341a-1b16-4778-80b1-10b30a13b150')\"\n",
              "              title=\"Convert this dataframe to an interactive table.\"\n",
              "              style=\"display:none;\">\n",
              "        \n",
              "  <svg xmlns=\"http://www.w3.org/2000/svg\" height=\"24px\"viewBox=\"0 0 24 24\"\n",
              "       width=\"24px\">\n",
              "    <path d=\"M0 0h24v24H0V0z\" fill=\"none\"/>\n",
              "    <path d=\"M18.56 5.44l.94 2.06.94-2.06 2.06-.94-2.06-.94-.94-2.06-.94 2.06-2.06.94zm-11 1L8.5 8.5l.94-2.06 2.06-.94-2.06-.94L8.5 2.5l-.94 2.06-2.06.94zm10 10l.94 2.06.94-2.06 2.06-.94-2.06-.94-.94-2.06-.94 2.06-2.06.94z\"/><path d=\"M17.41 7.96l-1.37-1.37c-.4-.4-.92-.59-1.43-.59-.52 0-1.04.2-1.43.59L10.3 9.45l-7.72 7.72c-.78.78-.78 2.05 0 2.83L4 21.41c.39.39.9.59 1.41.59.51 0 1.02-.2 1.41-.59l7.78-7.78 2.81-2.81c.8-.78.8-2.07 0-2.86zM5.41 20L4 18.59l7.72-7.72 1.47 1.35L5.41 20z\"/>\n",
              "  </svg>\n",
              "      </button>\n",
              "      \n",
              "  <style>\n",
              "    .colab-df-container {\n",
              "      display:flex;\n",
              "      flex-wrap:wrap;\n",
              "      gap: 12px;\n",
              "    }\n",
              "\n",
              "    .colab-df-convert {\n",
              "      background-color: #E8F0FE;\n",
              "      border: none;\n",
              "      border-radius: 50%;\n",
              "      cursor: pointer;\n",
              "      display: none;\n",
              "      fill: #1967D2;\n",
              "      height: 32px;\n",
              "      padding: 0 0 0 0;\n",
              "      width: 32px;\n",
              "    }\n",
              "\n",
              "    .colab-df-convert:hover {\n",
              "      background-color: #E2EBFA;\n",
              "      box-shadow: 0px 1px 2px rgba(60, 64, 67, 0.3), 0px 1px 3px 1px rgba(60, 64, 67, 0.15);\n",
              "      fill: #174EA6;\n",
              "    }\n",
              "\n",
              "    [theme=dark] .colab-df-convert {\n",
              "      background-color: #3B4455;\n",
              "      fill: #D2E3FC;\n",
              "    }\n",
              "\n",
              "    [theme=dark] .colab-df-convert:hover {\n",
              "      background-color: #434B5C;\n",
              "      box-shadow: 0px 1px 3px 1px rgba(0, 0, 0, 0.15);\n",
              "      filter: drop-shadow(0px 1px 2px rgba(0, 0, 0, 0.3));\n",
              "      fill: #FFFFFF;\n",
              "    }\n",
              "  </style>\n",
              "\n",
              "      <script>\n",
              "        const buttonEl =\n",
              "          document.querySelector('#df-15be341a-1b16-4778-80b1-10b30a13b150 button.colab-df-convert');\n",
              "        buttonEl.style.display =\n",
              "          google.colab.kernel.accessAllowed ? 'block' : 'none';\n",
              "\n",
              "        async function convertToInteractive(key) {\n",
              "          const element = document.querySelector('#df-15be341a-1b16-4778-80b1-10b30a13b150');\n",
              "          const dataTable =\n",
              "            await google.colab.kernel.invokeFunction('convertToInteractive',\n",
              "                                                     [key], {});\n",
              "          if (!dataTable) return;\n",
              "\n",
              "          const docLinkHtml = 'Like what you see? Visit the ' +\n",
              "            '<a target=\"_blank\" href=https://colab.research.google.com/notebooks/data_table.ipynb>data table notebook</a>'\n",
              "            + ' to learn more about interactive tables.';\n",
              "          element.innerHTML = '';\n",
              "          dataTable['output_type'] = 'display_data';\n",
              "          await google.colab.output.renderOutput(dataTable, element);\n",
              "          const docLink = document.createElement('div');\n",
              "          docLink.innerHTML = docLinkHtml;\n",
              "          element.appendChild(docLink);\n",
              "        }\n",
              "      </script>\n",
              "    </div>\n",
              "  </div>\n",
              "  "
            ]
          },
          "metadata": {},
          "execution_count": 6
        }
      ]
    },
    {
      "cell_type": "code",
      "source": [
        "# Объдиняем место, вид ДТП и временые интервалы\n",
        "df[\"Место\"] = df[\"Дата\"].astype(str) +  \" \" + df[\"Время\"].astype(str) + \" \" + df[\"Место\"].astype(str) + \" \" + df[\"Вид ДТП\"].astype(str) "
      ],
      "metadata": {
        "id": "nSWOrn5tjHZd"
      },
      "execution_count": 7,
      "outputs": []
    },
    {
      "cell_type": "markdown",
      "source": [
        "# **Модель для предсказания \"Погибло\"**"
      ],
      "metadata": {
        "id": "w4ba7GPPtboK"
      }
    },
    {
      "cell_type": "code",
      "source": [
        "texts = df['Место'].values # Извлекаем данные всех текстов из столбца 'Место'\n",
        "classes = list(df['Погибло'].values) # Извлекаем соответствующие им значения классов (лейблов) столбца 'Текст Сообщения'\n",
        "maxWordsCount = 1000 # Зададим максимальное количество слов/индексов, учитываемое при обучении текстов\n",
        "\n",
        "print(df['Погибло'].unique()) # Выводим все уникальные значения классов\n",
        "nClasses = df['Погибло'].nunique() # Задаём количество классов, обращаясь к столбцу 'Категория' и оставляя уникальные значения\n",
        "print('Количество классов =', nClasses) # Посмотрим на количество классов"
      ],
      "metadata": {
        "colab": {
          "base_uri": "https://localhost:8080/"
        },
        "id": "h8TbP69FrFdo",
        "outputId": "b6a8f251-330a-41e4-b42f-c0148ab7500f"
      },
      "execution_count": 8,
      "outputs": [
        {
          "output_type": "stream",
          "name": "stdout",
          "text": [
            "[0 1 2 3]\n",
            "Количество классов = 4\n"
          ]
        }
      ]
    },
    {
      "cell_type": "code",
      "source": [
        "tokenizer = Tokenizer(num_words=maxWordsCount, filters='!\"#$%&()*+,-./:;<=>?@[\\\\]^_`{|}~\\t\\n', lower=True, split=' ', oov_token='unknown', char_level=False)#False\n",
        "tokenizer.fit_on_texts(texts) # Даём в обработку наши тексты, методу, который соберет словарь частотности\n",
        "# Формируем матрицу индексов по принципу Bag of Words\n",
        "xAll = tokenizer.texts_to_matrix(texts) # Каждое слово из текста нашло свой индекс в векторе длиной maxWordsCount и отметилось в нем единичкой \n",
        "print(xAll.shape)  # Посмотрим на форму текстов\n",
        "print(xAll[0, :20])# И отдельно на фрагмент начала вектора"
      ],
      "metadata": {
        "colab": {
          "base_uri": "https://localhost:8080/"
        },
        "id": "fogleudcsEK9",
        "outputId": "a025c28a-c550-4181-ebd0-d935ce395142"
      },
      "execution_count": 9,
      "outputs": [
        {
          "output_type": "stream",
          "name": "stdout",
          "text": [
            "(35771, 1000)\n",
            "[0. 0. 1. 1. 1. 0. 1. 1. 1. 0. 1. 0. 0. 0. 0. 0. 0. 0. 0. 0.]\n"
          ]
        }
      ]
    },
    {
      "cell_type": "code",
      "source": [
        "#Преобразовываем категории в векторы\n",
        "encoder = LabelEncoder() # Вызываем метод кодирования тестовых лейблов из библиотеки sklearn\n",
        "encoder.fit(classes) # Подгружаем в него категории из нашей базы\n",
        "classesEncoded = encoder.transform(classes) # Кодируем категории\n",
        "print('Посмотрим кодированные категории', encoder.classes_) # Посмотрим кодированные категории\n",
        "print('Количество',classesEncoded.shape)\n",
        "print('Посмотрим как выглядят первые 17 категорий', classesEncoded[:17])\n",
        "\n",
        "yAll = utils.to_categorical(classesEncoded, nClasses) # И выводим каждый лейбл в виде вектора длиной 17, с 1кой в позиции соответствующего класса и нулями\n",
        "print('Форма лейблов', yAll.shape) # Посмотрим на форму лейблов категорий\n",
        "print('Первая строка лейблов',yAll[0]) # И отдельно на первую строку"
      ],
      "metadata": {
        "colab": {
          "base_uri": "https://localhost:8080/"
        },
        "id": "Oe_wfq8DsMB8",
        "outputId": "94678d0e-5c33-4798-bf8b-e3887322b4b0"
      },
      "execution_count": 10,
      "outputs": [
        {
          "output_type": "stream",
          "name": "stdout",
          "text": [
            "Посмотрим кодированные категории [0 1 2 3]\n",
            "Количество (35771,)\n",
            "Посмотрим как выглядят первые 17 категорий [0 0 0 0 0 0 0 0 0 0 0 0 0 0 0 0 0]\n",
            "Форма лейблов (35771, 4)\n",
            "Первая строка лейблов [1. 0. 0. 0.]\n"
          ]
        }
      ]
    },
    {
      "cell_type": "code",
      "source": [
        "# разбиваем все данные на обучающую и тестовую выборки с помощью метода train_test_split из библиотеки sklearn\n",
        "xTrain, xVal, yTrain, yVal = train_test_split(xAll, yAll, test_size=0.2, shuffle = True) # Берем 20% на тестовую выборку и перемешиваем данные\n",
        "print(xTrain.shape) #посмотрим на форму текстов из обучающей выборки\n",
        "print(yTrain.shape) #и на форму соответсвующих им классов"
      ],
      "metadata": {
        "colab": {
          "base_uri": "https://localhost:8080/"
        },
        "id": "rf-bji6rsfD-",
        "outputId": "5ff2f4b9-2716-4d05-fd61-cce304ed440d"
      },
      "execution_count": 11,
      "outputs": [
        {
          "output_type": "stream",
          "name": "stdout",
          "text": [
            "(28616, 1000)\n",
            "(28616, 4)\n"
          ]
        }
      ]
    },
    {
      "cell_type": "code",
      "source": [
        "# Сохраняем сеть на каждой эпохе\n",
        "# {epoch:02d} - номер эпохи\n",
        "# {val_acc:.4f} - значение аккуратности на проверочном ноборе данных\n",
        "callbacks = [ModelCheckpoint('save_models/Appeals_of_citizens-{epoch:02d}-{loss:.4f}.hdf5')]\n",
        "# Сохраняем только лучший вариант сети\n",
        "#callbacks = [ModelCheckpoint('save/Kursk-text.hdf5', monitor='val_loss', save_best_only=True)]"
      ],
      "metadata": {
        "id": "1dRyi-BkskQV"
      },
      "execution_count": 12,
      "outputs": []
    },
    {
      "cell_type": "code",
      "source": [
        "#Создаём полносвязную сеть\n",
        "model = Sequential()\n",
        "#Входной полносвязный слой\n",
        "model.add(Dense(100, input_dim=maxWordsCount, activation=\"relu\"))\n",
        "#Слой регуляризации Dropout\n",
        "model.add(Dropout(0.2)) \n",
        "#Второй полносвязный слой\n",
        "model.add(Dense(100, activation='relu'))\n",
        "#Слой регуляризации Dropout\n",
        "model.add(Dropout(0.3))\n",
        "#Третий полносвязный слой\n",
        "model.add(Dense(100, activation='relu'))\n",
        "#Слой регуляризации Dropout\n",
        "model.add(Dropout(0.4))\n",
        "#Выходной полносвязный слой\n",
        "model.add(Dense(nClasses, activation='softmax'))#softmax, sigmoid\n",
        "time_start = [time.time()]\n",
        "\n",
        "model.compile(optimizer='adam', \n",
        "              loss='categorical_crossentropy', \n",
        "              metrics=['accuracy'])\n",
        "\n",
        "#Обучаем сеть на выборке\n",
        "history = model.fit(xTrain, \n",
        "                    yTrain, \n",
        "                    epochs=5,\n",
        "                    batch_size=64,\n",
        "                    validation_data=(xVal, yVal),\n",
        "                    verbose=2,\n",
        "                    callbacks=callbacks)\n",
        "\n",
        "plt.plot(history.history['accuracy'], \n",
        "         label='Доля верных ответов на обучающем наборе')\n",
        "plt.plot(history.history['val_accuracy'], \n",
        "         label='Доля верных ответов на проверочном наборе')\n",
        "plt.xlabel('Эпоха обучения')\n",
        "plt.ylabel('Доля верных ответов')\n",
        "plt.legend()\n",
        "plt.show()"
      ],
      "metadata": {
        "colab": {
          "base_uri": "https://localhost:8080/",
          "height": 453
        },
        "id": "O26_Um3Tsxby",
        "outputId": "1c515933-3dcd-4a40-93e6-9ea94fdf1061"
      },
      "execution_count": 13,
      "outputs": [
        {
          "output_type": "stream",
          "name": "stdout",
          "text": [
            "Epoch 1/5\n",
            "448/448 - 4s - loss: 0.0971 - accuracy: 0.9863 - val_loss: 0.0558 - val_accuracy: 0.9911 - 4s/epoch - 8ms/step\n",
            "Epoch 2/5\n",
            "448/448 - 3s - loss: 0.0639 - accuracy: 0.9902 - val_loss: 0.0622 - val_accuracy: 0.9911 - 3s/epoch - 8ms/step\n",
            "Epoch 3/5\n",
            "448/448 - 3s - loss: 0.0615 - accuracy: 0.9902 - val_loss: 0.0583 - val_accuracy: 0.9911 - 3s/epoch - 8ms/step\n",
            "Epoch 4/5\n",
            "448/448 - 4s - loss: 0.0621 - accuracy: 0.9902 - val_loss: 0.0582 - val_accuracy: 0.9911 - 4s/epoch - 8ms/step\n",
            "Epoch 5/5\n",
            "448/448 - 3s - loss: 0.0594 - accuracy: 0.9902 - val_loss: 0.0615 - val_accuracy: 0.9911 - 3s/epoch - 7ms/step\n"
          ]
        },
        {
          "output_type": "display_data",
          "data": {
            "text/plain": [
              "<Figure size 432x288 with 1 Axes>"
            ],
            "image/png": "[encoded data removed]"
          },
          "metadata": {
            "needs_background": "light"
          }
        }
      ]
    },
    {
      "cell_type": "markdown",
      "source": [
        "# **Модель для предсказания \"Погибло детей\"**"
      ],
      "metadata": {
        "id": "pqXx8uu7tYmj"
      }
    },
    {
      "cell_type": "code",
      "source": [
        "texts = df['Место'].values # Извлекаем данные всех текстов из столбца 'Текст Сообщения'\n",
        "classes = list(df['Погибло детей'].values) # Извлекаем соответствующие им значения классов (лейблов) столбца 'Текст Сообщения'\n",
        "maxWordsCount = 1000 # Зададим максимальное количество слов/индексов, учитываемое при обучении текстов\n",
        "\n",
        "print(df['Погибло детей'].unique()) # Выводим все уникальные значения классов\n",
        "nClasses = df['Погибло детей'].nunique() # Задаём количество классов, обращаясь к столбцу 'Категория' и оставляя уникальные значения\n",
        "print('Количество классов =', nClasses) # Посмотрим на количество классов"
      ],
      "metadata": {
        "colab": {
          "base_uri": "https://localhost:8080/"
        },
        "id": "NScTPj5CuavB",
        "outputId": "75869413-7627-42db-fefa-5afba1ac213c"
      },
      "execution_count": 14,
      "outputs": [
        {
          "output_type": "stream",
          "name": "stdout",
          "text": [
            "[0 1]\n",
            "Количество классов = 2\n"
          ]
        }
      ]
    },
    {
      "cell_type": "code",
      "source": [
        "tokenizer = Tokenizer(num_words=maxWordsCount, filters='!\"#$%&()*+,-./:;<=>?@[\\\\]^_`{|}~\\t\\n', lower=True, split=' ', oov_token='unknown', char_level=False)#False\n",
        "tokenizer.fit_on_texts(texts) # Даём в обработку наши тексты, методу, который соберет словарь частотности\n",
        "# Формируем матрицу индексов по принципу Bag of Words\n",
        "xAll = tokenizer.texts_to_matrix(texts) # Каждое слово из текста нашло свой индекс в векторе длиной maxWordsCount и отметилось в нем единичкой \n",
        "print(xAll.shape)  # Посмотрим на форму текстов\n",
        "print(xAll[0, :20])# И отдельно на фрагмент начала вектора"
      ],
      "metadata": {
        "colab": {
          "base_uri": "https://localhost:8080/"
        },
        "id": "81LFS3p3ulKq",
        "outputId": "d1601eb5-dfe5-4e79-effa-f2fc82b8d2c8"
      },
      "execution_count": 15,
      "outputs": [
        {
          "output_type": "stream",
          "name": "stdout",
          "text": [
            "(35771, 1000)\n",
            "[0. 0. 1. 1. 1. 0. 1. 1. 1. 0. 1. 0. 0. 0. 0. 0. 0. 0. 0. 0.]\n"
          ]
        }
      ]
    },
    {
      "cell_type": "code",
      "source": [
        "#Преобразовываем категории в векторы\n",
        "encoder = LabelEncoder() # Вызываем метод кодирования тестовых лейблов из библиотеки sklearn\n",
        "encoder.fit(classes) # Подгружаем в него категории из нашей базы\n",
        "classesEncoded = encoder.transform(classes) # Кодируем категории\n",
        "print('Посмотрим кодированные категории', encoder.classes_) # Посмотрим кодированные категории\n",
        "print('Количество',classesEncoded.shape)\n",
        "print('Посмотрим как выглядят первые 17 категорий', classesEncoded[:17])\n",
        "\n",
        "yAll = utils.to_categorical(classesEncoded, nClasses) # И выводим каждый лейбл в виде вектора длиной 17, с 1кой в позиции соответствующего класса и нулями\n",
        "print('Форма лейблов', yAll.shape) # Посмотрим на форму лейблов категорий\n",
        "print('Первая строка лейблов',yAll[0]) # И отдельно на первую строку"
      ],
      "metadata": {
        "colab": {
          "base_uri": "https://localhost:8080/"
        },
        "id": "VveVe6qZuuU-",
        "outputId": "7d133974-050f-4ac1-f2a5-78b8aea97ca3"
      },
      "execution_count": 16,
      "outputs": [
        {
          "output_type": "stream",
          "name": "stdout",
          "text": [
            "Посмотрим кодированные категории [0 1]\n",
            "Количество (35771,)\n",
            "Посмотрим как выглядят первые 17 категорий [0 0 0 0 0 0 0 0 0 0 0 0 0 0 0 0 0]\n",
            "Форма лейблов (35771, 2)\n",
            "Первая строка лейблов [1. 0.]\n"
          ]
        }
      ]
    },
    {
      "cell_type": "code",
      "source": [
        "# разбиваем все данные на обучающую и тестовую выборки с помощью метода train_test_split из библиотеки sklearn\n",
        "xTrain, xVal, yTrain, yVal = train_test_split(xAll, yAll, test_size=0.2, shuffle = True) # Берем 20% на тестовую выборку и перемешиваем данные\n",
        "print(xTrain.shape) #посмотрим на форму текстов из обучающей выборки\n",
        "print(yTrain.shape) #и на форму соответсвующих им классов"
      ],
      "metadata": {
        "colab": {
          "base_uri": "https://localhost:8080/"
        },
        "id": "4_uOXFsnuydw",
        "outputId": "e31eebe9-a5dc-488f-eb75-9d9bd40c0317"
      },
      "execution_count": 17,
      "outputs": [
        {
          "output_type": "stream",
          "name": "stdout",
          "text": [
            "(28616, 1000)\n",
            "(28616, 2)\n"
          ]
        }
      ]
    },
    {
      "cell_type": "code",
      "source": [
        "#Создаём полносвязную сеть\n",
        "model02 = Sequential()\n",
        "#Входной полносвязный слой\n",
        "model02.add(Dense(100, input_dim=maxWordsCount, activation=\"relu\"))\n",
        "#Слой регуляризации Dropout\n",
        "model02.add(Dropout(0.2)) \n",
        "#Второй полносвязный слой\n",
        "model02.add(Dense(100, activation='relu'))\n",
        "#Слой регуляризации Dropout\n",
        "model02.add(Dropout(0.3))\n",
        "#Третий полносвязный слой\n",
        "model02.add(Dense(100, activation='relu'))\n",
        "#Слой регуляризации Dropout\n",
        "model02.add(Dropout(0.4))\n",
        "#Выходной полносвязный слой\n",
        "model02.add(Dense(nClasses, activation='softmax'))#softmax, sigmoid\n",
        "time_start = [time.time()]\n",
        "\n",
        "model02.compile(optimizer='adam', \n",
        "              loss='categorical_crossentropy', \n",
        "              metrics=['accuracy'])\n",
        "\n",
        "#Обучаем сеть на выборке\n",
        "history = model02.fit(xTrain, \n",
        "                    yTrain, \n",
        "                    epochs=5,\n",
        "                    batch_size=64,\n",
        "                    validation_data=(xVal, yVal),\n",
        "                    verbose=2,\n",
        "                    callbacks=callbacks)\n",
        "\n",
        "plt.plot(history.history['accuracy'], \n",
        "         label='Доля верных ответов на обучающем наборе')\n",
        "plt.plot(history.history['val_accuracy'], \n",
        "         label='Доля верных ответов на проверочном наборе')\n",
        "plt.xlabel('Эпоха обучения')\n",
        "plt.ylabel('Доля верных ответов')\n",
        "plt.legend()\n",
        "plt.show()"
      ],
      "metadata": {
        "colab": {
          "base_uri": "https://localhost:8080/",
          "height": 453
        },
        "id": "U9h9joY7u4QL",
        "outputId": "506a6390-19ce-4c72-bab9-b920c17b6384"
      },
      "execution_count": 18,
      "outputs": [
        {
          "output_type": "stream",
          "name": "stdout",
          "text": [
            "Epoch 1/5\n",
            "448/448 - 5s - loss: 0.0148 - accuracy: 0.9981 - val_loss: 0.0072 - val_accuracy: 0.9994 - 5s/epoch - 12ms/step\n",
            "Epoch 2/5\n",
            "448/448 - 4s - loss: 0.0032 - accuracy: 0.9997 - val_loss: 0.0075 - val_accuracy: 0.9994 - 4s/epoch - 9ms/step\n",
            "Epoch 3/5\n",
            "448/448 - 3s - loss: 0.0032 - accuracy: 0.9997 - val_loss: 0.0091 - val_accuracy: 0.9994 - 3s/epoch - 7ms/step\n",
            "Epoch 4/5\n",
            "448/448 - 3s - loss: 0.0033 - accuracy: 0.9997 - val_loss: 0.0073 - val_accuracy: 0.9994 - 3s/epoch - 7ms/step\n",
            "Epoch 5/5\n",
            "448/448 - 4s - loss: 0.0023 - accuracy: 0.9997 - val_loss: 0.0109 - val_accuracy: 0.9994 - 4s/epoch - 9ms/step\n"
          ]
        },
        {
          "output_type": "display_data",
          "data": {
            "text/plain": [
              "<Figure size 432x288 with 1 Axes>"
            ],
            "image/png": "[encoded data removed]"
          },
          "metadata": {
            "needs_background": "light"
          }
        }
      ]
    },
    {
      "cell_type": "markdown",
      "source": [
        "# **Модель для предсказания \"Ранено\"**"
      ],
      "metadata": {
        "id": "j8oX2ZeNtt-5"
      }
    },
    {
      "cell_type": "code",
      "source": [
        "texts = df['Место'].values # Извлекаем данные всех текстов из столбца 'Текст Сообщения'\n",
        "classes = list(df['Ранено'].values) # Извлекаем соответствующие им значения классов (лейблов) столбца 'Текст Сообщения'\n",
        "maxWordsCount = 1000 # Зададим максимальное количество слов/индексов, учитываемое при обучении текстов\n",
        "\n",
        "print(df['Ранено'].unique()) # Выводим все уникальные значения классов\n",
        "nClasses = df['Ранено'].nunique() # Задаём количество классов, обращаясь к столбцу 'Категория' и оставляя уникальные значения\n",
        "print('Количество классов =', nClasses) # Посмотрим на количество классов"
      ],
      "metadata": {
        "colab": {
          "base_uri": "https://localhost:8080/"
        },
        "id": "CXh6vv5gvDMa",
        "outputId": "c9077dc6-49a1-440c-b0f5-e07f0e00d7e0"
      },
      "execution_count": 19,
      "outputs": [
        {
          "output_type": "stream",
          "name": "stdout",
          "text": [
            "[0 2 1 5 4 3 6 8 7]\n",
            "Количество классов = 9\n"
          ]
        }
      ]
    },
    {
      "cell_type": "code",
      "source": [
        "tokenizer = Tokenizer(num_words=maxWordsCount, filters='!\"#$%&()*+,-./:;<=>?@[\\\\]^_`{|}~\\t\\n', lower=True, split=' ', oov_token='unknown', char_level=False)#False\n",
        "tokenizer.fit_on_texts(texts) # Даём в обработку наши тексты, методу, который соберет словарь частотности\n",
        "# Формируем матрицу индексов по принципу Bag of Words\n",
        "xAll = tokenizer.texts_to_matrix(texts) # Каждое слово из текста нашло свой индекс в векторе длиной maxWordsCount и отметилось в нем единичкой \n",
        "print(xAll.shape)  # Посмотрим на форму текстов\n",
        "print(xAll[0, :20])# И отдельно на фрагмент начала вектора"
      ],
      "metadata": {
        "colab": {
          "base_uri": "https://localhost:8080/"
        },
        "id": "mZjqvR77vQdu",
        "outputId": "b1152be3-0a40-4001-8bb7-072b0945de9f"
      },
      "execution_count": 20,
      "outputs": [
        {
          "output_type": "stream",
          "name": "stdout",
          "text": [
            "(35771, 1000)\n",
            "[0. 0. 1. 1. 1. 0. 1. 1. 1. 0. 1. 0. 0. 0. 0. 0. 0. 0. 0. 0.]\n"
          ]
        }
      ]
    },
    {
      "cell_type": "code",
      "source": [
        "#Преобразовываем категории в векторы\n",
        "encoder = LabelEncoder() # Вызываем метод кодирования тестовых лейблов из библиотеки sklearn\n",
        "encoder.fit(classes) # Подгружаем в него категории из нашей базы\n",
        "classesEncoded = encoder.transform(classes) # Кодируем категории\n",
        "print('Посмотрим кодированные категории', encoder.classes_) # Посмотрим кодированные категории\n",
        "print('Количество',classesEncoded.shape)\n",
        "print('Посмотрим как выглядят первые 17 категорий', classesEncoded[:17])\n",
        "\n",
        "yAll = utils.to_categorical(classesEncoded, nClasses) # И выводим каждый лейбл в виде вектора длиной 17, с 1кой в позиции соответствующего класса и нулями\n",
        "print('Форма лейблов', yAll.shape) # Посмотрим на форму лейблов категорий\n",
        "print('Первая строка лейблов',yAll[0]) # И отдельно на первую строку"
      ],
      "metadata": {
        "colab": {
          "base_uri": "https://localhost:8080/"
        },
        "id": "uhwour84vUY5",
        "outputId": "54c8a455-f026-4853-9eb8-480c2c2c7a25"
      },
      "execution_count": 21,
      "outputs": [
        {
          "output_type": "stream",
          "name": "stdout",
          "text": [
            "Посмотрим кодированные категории [0 1 2 3 4 5 6 7 8]\n",
            "Количество (35771,)\n",
            "Посмотрим как выглядят первые 17 категорий [0 0 0 0 0 0 0 0 0 0 0 0 0 0 0 0 0]\n",
            "Форма лейблов (35771, 9)\n",
            "Первая строка лейблов [1. 0. 0. 0. 0. 0. 0. 0. 0.]\n"
          ]
        }
      ]
    },
    {
      "cell_type": "code",
      "source": [
        "# разбиваем все данные на обучающую и тестовую выборки с помощью метода train_test_split из библиотеки sklearn\n",
        "xTrain, xVal, yTrain, yVal = train_test_split(xAll, yAll, test_size=0.2, shuffle = True) # Берем 20% на тестовую выборку и перемешиваем данные\n",
        "print(xTrain.shape) #посмотрим на форму текстов из обучающей выборки\n",
        "print(yTrain.shape) #и на форму соответсвующих им классов"
      ],
      "metadata": {
        "colab": {
          "base_uri": "https://localhost:8080/"
        },
        "id": "pzRYJBXgvY1W",
        "outputId": "c67328c7-204b-455d-c025-4105d35ffab8"
      },
      "execution_count": 22,
      "outputs": [
        {
          "output_type": "stream",
          "name": "stdout",
          "text": [
            "(28616, 1000)\n",
            "(28616, 9)\n"
          ]
        }
      ]
    },
    {
      "cell_type": "code",
      "source": [
        "#Создаём полносвязную сеть\n",
        "model03 = Sequential()\n",
        "#Входной полносвязный слой\n",
        "model03.add(Dense(100, input_dim=maxWordsCount, activation=\"relu\"))\n",
        "#Слой регуляризации Dropout\n",
        "model03.add(Dropout(0.2)) \n",
        "#Второй полносвязный слой\n",
        "model03.add(Dense(100, activation='relu'))\n",
        "#Слой регуляризации Dropout\n",
        "model03.add(Dropout(0.3))\n",
        "#Третий полносвязный слой\n",
        "model03.add(Dense(100, activation='relu'))\n",
        "#Слой регуляризации Dropout\n",
        "model03.add(Dropout(0.4))\n",
        "#Выходной полносвязный слой\n",
        "model03.add(Dense(nClasses, activation='softmax'))#softmax, sigmoid\n",
        "time_start = [time.time()]\n",
        "\n",
        "model03.compile(optimizer='adam', \n",
        "              loss='categorical_crossentropy', \n",
        "              metrics=['accuracy'])\n",
        "\n",
        "#Обучаем сеть на выборке\n",
        "history = model03.fit(xTrain, \n",
        "                    yTrain, \n",
        "                    epochs=10,\n",
        "                    batch_size=64,\n",
        "                    validation_data=(xVal, yVal),\n",
        "                    verbose=2,\n",
        "                    callbacks=callbacks)\n",
        "\n",
        "plt.plot(history.history['accuracy'], \n",
        "         label='Доля верных ответов на обучающем наборе')\n",
        "plt.plot(history.history['val_accuracy'], \n",
        "         label='Доля верных ответов на проверочном наборе')\n",
        "plt.xlabel('Эпоха обучения')\n",
        "plt.ylabel('Доля верных ответов')\n",
        "plt.legend()\n",
        "plt.show()"
      ],
      "metadata": {
        "colab": {
          "base_uri": "https://localhost:8080/",
          "height": 626
        },
        "id": "AMEUfM-2vdJx",
        "outputId": "be01ae64-0df3-46ec-b357-4994e70a7e2d"
      },
      "execution_count": 23,
      "outputs": [
        {
          "output_type": "stream",
          "name": "stdout",
          "text": [
            "Epoch 1/10\n",
            "448/448 - 4s - loss: 0.5308 - accuracy: 0.8736 - val_loss: 0.4841 - val_accuracy: 0.8683 - 4s/epoch - 10ms/step\n",
            "Epoch 2/10\n",
            "448/448 - 3s - loss: 0.4777 - accuracy: 0.8742 - val_loss: 0.4824 - val_accuracy: 0.8682 - 3s/epoch - 6ms/step\n",
            "Epoch 3/10\n",
            "448/448 - 2s - loss: 0.4686 - accuracy: 0.8740 - val_loss: 0.4838 - val_accuracy: 0.8683 - 2s/epoch - 4ms/step\n",
            "Epoch 4/10\n",
            "448/448 - 2s - loss: 0.4629 - accuracy: 0.8736 - val_loss: 0.4856 - val_accuracy: 0.8683 - 2s/epoch - 5ms/step\n",
            "Epoch 5/10\n",
            "448/448 - 2s - loss: 0.4604 - accuracy: 0.8736 - val_loss: 0.4904 - val_accuracy: 0.8683 - 2s/epoch - 4ms/step\n",
            "Epoch 6/10\n",
            "448/448 - 2s - loss: 0.4545 - accuracy: 0.8735 - val_loss: 0.4893 - val_accuracy: 0.8679 - 2s/epoch - 4ms/step\n",
            "Epoch 7/10\n",
            "448/448 - 2s - loss: 0.4514 - accuracy: 0.8734 - val_loss: 0.4907 - val_accuracy: 0.8683 - 2s/epoch - 4ms/step\n",
            "Epoch 8/10\n",
            "448/448 - 2s - loss: 0.4452 - accuracy: 0.8740 - val_loss: 0.5022 - val_accuracy: 0.8682 - 2s/epoch - 5ms/step\n",
            "Epoch 9/10\n",
            "448/448 - 2s - loss: 0.4412 - accuracy: 0.8738 - val_loss: 0.5002 - val_accuracy: 0.8681 - 2s/epoch - 5ms/step\n",
            "Epoch 10/10\n",
            "448/448 - 2s - loss: 0.4374 - accuracy: 0.8749 - val_loss: 0.5072 - val_accuracy: 0.8672 - 2s/epoch - 5ms/step\n"
          ]
        },
        {
          "output_type": "display_data",
          "data": {
            "text/plain": [
              "<Figure size 432x288 with 1 Axes>"
            ],
            "image/png": "[encoded data removed]"
          },
          "metadata": {
            "needs_background": "light"
          }
        }
      ]
    },
    {
      "cell_type": "markdown",
      "source": [
        "# **Модель для предсказания \"Ранено детей\"**"
      ],
      "metadata": {
        "id": "ntqoiO_jty9K"
      }
    },
    {
      "cell_type": "code",
      "source": [
        "texts = df['Место'].values # Извлекаем данные всех текстов из столбца 'Текст Сообщения'\n",
        "classes = list(df['Ранено детей'].values) # Извлекаем соответствующие им значения классов (лейблов) столбца 'Текст Сообщения'\n",
        "maxWordsCount = 1000 # Зададим максимальное количество слов/индексов, учитываемое при обучении текстов\n",
        "\n",
        "print(df['Ранено детей'].unique()) # Выводим все уникальные значения классов\n",
        "nClasses = df['Ранено детей'].nunique() # Задаём количество классов, обращаясь к столбцу 'Категория' и оставляя уникальные значения\n",
        "print('Количество классов =', nClasses) # Посмотрим на количество классов"
      ],
      "metadata": {
        "colab": {
          "base_uri": "https://localhost:8080/"
        },
        "id": "68dLDHjtv5DY",
        "outputId": "b7fc7aa9-a9a7-44bc-e5f8-9afec5c61ddf"
      },
      "execution_count": 24,
      "outputs": [
        {
          "output_type": "stream",
          "name": "stdout",
          "text": [
            "[0 1 2 3 4]\n",
            "Количество классов = 5\n"
          ]
        }
      ]
    },
    {
      "cell_type": "code",
      "source": [
        "tokenizer = Tokenizer(num_words=maxWordsCount, filters='!\"#$%&()*+,-./:;<=>?@[\\\\]^_`{|}~\\t\\n', lower=True, split=' ', oov_token='unknown', char_level=False)#False\n",
        "tokenizer.fit_on_texts(texts) # Даём в обработку наши тексты, методу, который соберет словарь частотности\n",
        "# Формируем матрицу индексов по принципу Bag of Words\n",
        "xAll = tokenizer.texts_to_matrix(texts) # Каждое слово из текста нашло свой индекс в векторе длиной maxWordsCount и отметилось в нем единичкой \n",
        "print(xAll.shape)  # Посмотрим на форму текстов\n",
        "print(xAll[0, :20])# И отдельно на фрагмент начала вектора"
      ],
      "metadata": {
        "colab": {
          "base_uri": "https://localhost:8080/"
        },
        "id": "u8PaKfgWwEL0",
        "outputId": "d39a26c8-07a5-4202-e30f-c68f6a723ac8"
      },
      "execution_count": 25,
      "outputs": [
        {
          "output_type": "stream",
          "name": "stdout",
          "text": [
            "(35771, 1000)\n",
            "[0. 0. 1. 1. 1. 0. 1. 1. 1. 0. 1. 0. 0. 0. 0. 0. 0. 0. 0. 0.]\n"
          ]
        }
      ]
    },
    {
      "cell_type": "code",
      "source": [
        "#Преобразовываем категории в векторы\n",
        "encoder = LabelEncoder() # Вызываем метод кодирования тестовых лейблов из библиотеки sklearn\n",
        "encoder.fit(classes) # Подгружаем в него категории из нашей базы\n",
        "classesEncoded = encoder.transform(classes) # Кодируем категории\n",
        "print('Посмотрим кодированные категории', encoder.classes_) # Посмотрим кодированные категории\n",
        "print('Количество',classesEncoded.shape)\n",
        "print('Посмотрим как выглядят первые 17 категорий', classesEncoded[:17])\n",
        "\n",
        "yAll = utils.to_categorical(classesEncoded, nClasses) # И выводим каждый лейбл в виде вектора длиной 17, с 1кой в позиции соответствующего класса и нулями\n",
        "print('Форма лейблов', yAll.shape) # Посмотрим на форму лейблов категорий\n",
        "print('Первая строка лейблов',yAll[0]) # И отдельно на первую строку"
      ],
      "metadata": {
        "colab": {
          "base_uri": "https://localhost:8080/"
        },
        "id": "co4h9Oy2wIi6",
        "outputId": "da533212-0850-46ac-c4d9-91bc3f4616de"
      },
      "execution_count": 26,
      "outputs": [
        {
          "output_type": "stream",
          "name": "stdout",
          "text": [
            "Посмотрим кодированные категории [0 1 2 3 4]\n",
            "Количество (35771,)\n",
            "Посмотрим как выглядят первые 17 категорий [0 0 0 0 0 0 0 0 0 0 0 0 0 0 0 0 0]\n",
            "Форма лейблов (35771, 5)\n",
            "Первая строка лейблов [1. 0. 0. 0. 0.]\n"
          ]
        }
      ]
    },
    {
      "cell_type": "code",
      "source": [
        "# разбиваем все данные на обучающую и тестовую выборки с помощью метода train_test_split из библиотеки sklearn\n",
        "xTrain, xVal, yTrain, yVal = train_test_split(xAll, yAll, test_size=0.2, shuffle = True) # Берем 20% на тестовую выборку и перемешиваем данные\n",
        "print(xTrain.shape) #посмотрим на форму текстов из обучающей выборки\n",
        "print(yTrain.shape) #и на форму соответсвующих им классов"
      ],
      "metadata": {
        "colab": {
          "base_uri": "https://localhost:8080/"
        },
        "id": "RQhsi8yJwMTd",
        "outputId": "15833a8d-32b2-41f4-cfff-c8f615040311"
      },
      "execution_count": 27,
      "outputs": [
        {
          "output_type": "stream",
          "name": "stdout",
          "text": [
            "(28616, 1000)\n",
            "(28616, 5)\n"
          ]
        }
      ]
    },
    {
      "cell_type": "code",
      "source": [
        "#Создаём полносвязную сеть\n",
        "model04 = Sequential()\n",
        "#Входной полносвязный слой\n",
        "model04.add(Dense(100, input_dim=maxWordsCount, activation=\"relu\"))\n",
        "#Слой регуляризации Dropout\n",
        "model04.add(Dropout(0.2)) \n",
        "#Второй полносвязный слой\n",
        "model04.add(Dense(100, activation='relu'))\n",
        "#Слой регуляризации Dropout\n",
        "model04.add(Dropout(0.3))\n",
        "#Третий полносвязный слой\n",
        "model04.add(Dense(100, activation='relu'))\n",
        "#Слой регуляризации Dropout\n",
        "model04.add(Dropout(0.4))\n",
        "#Выходной полносвязный слой\n",
        "model04.add(Dense(nClasses, activation='softmax'))#softmax, sigmoid\n",
        "time_start = [time.time()]\n",
        "\n",
        "model04.compile(optimizer='adam', \n",
        "              loss='categorical_crossentropy', \n",
        "              metrics=['accuracy'])\n",
        "\n",
        "#Обучаем сеть на выборке\n",
        "history = model04.fit(xTrain, \n",
        "                    yTrain, \n",
        "                    epochs=10,\n",
        "                    batch_size=64,\n",
        "                    validation_data=(xVal, yVal),\n",
        "                    verbose=2,\n",
        "                    callbacks=callbacks)\n",
        "\n",
        "plt.plot(history.history['accuracy'], \n",
        "         label='Доля верных ответов на обучающем наборе')\n",
        "plt.plot(history.history['val_accuracy'], \n",
        "         label='Доля верных ответов на проверочном наборе')\n",
        "plt.xlabel('Эпоха обучения')\n",
        "plt.ylabel('Доля верных ответов')\n",
        "plt.legend()\n",
        "plt.show()"
      ],
      "metadata": {
        "colab": {
          "base_uri": "https://localhost:8080/",
          "height": 630
        },
        "id": "FFewDuqHwQJe",
        "outputId": "032fe0b1-b1ad-415f-b194-bb334f1876bd"
      },
      "execution_count": 28,
      "outputs": [
        {
          "output_type": "stream",
          "name": "stdout",
          "text": [
            "Epoch 1/10\n",
            "448/448 - 3s - loss: 0.1672 - accuracy: 0.9735 - val_loss: 0.1221 - val_accuracy: 0.9764 - 3s/epoch - 7ms/step\n",
            "Epoch 2/10\n",
            "448/448 - 2s - loss: 0.1190 - accuracy: 0.9788 - val_loss: 0.1207 - val_accuracy: 0.9764 - 2s/epoch - 4ms/step\n",
            "Epoch 3/10\n",
            "448/448 - 2s - loss: 0.1162 - accuracy: 0.9788 - val_loss: 0.1252 - val_accuracy: 0.9764 - 2s/epoch - 5ms/step\n",
            "Epoch 4/10\n",
            "448/448 - 2s - loss: 0.1139 - accuracy: 0.9788 - val_loss: 0.1218 - val_accuracy: 0.9764 - 2s/epoch - 5ms/step\n",
            "Epoch 5/10\n",
            "448/448 - 2s - loss: 0.1108 - accuracy: 0.9788 - val_loss: 0.1219 - val_accuracy: 0.9764 - 2s/epoch - 5ms/step\n",
            "Epoch 6/10\n",
            "448/448 - 3s - loss: 0.1106 - accuracy: 0.9788 - val_loss: 0.1265 - val_accuracy: 0.9764 - 3s/epoch - 6ms/step\n",
            "Epoch 7/10\n",
            "448/448 - 3s - loss: 0.1070 - accuracy: 0.9788 - val_loss: 0.1265 - val_accuracy: 0.9764 - 3s/epoch - 7ms/step\n",
            "Epoch 8/10\n",
            "448/448 - 3s - loss: 0.1053 - accuracy: 0.9788 - val_loss: 0.1293 - val_accuracy: 0.9764 - 3s/epoch - 6ms/step\n",
            "Epoch 9/10\n",
            "448/448 - 3s - loss: 0.1024 - accuracy: 0.9788 - val_loss: 0.1343 - val_accuracy: 0.9764 - 3s/epoch - 7ms/step\n",
            "Epoch 10/10\n",
            "448/448 - 3s - loss: 0.0993 - accuracy: 0.9788 - val_loss: 0.1397 - val_accuracy: 0.9764 - 3s/epoch - 7ms/step\n"
          ]
        },
        {
          "output_type": "display_data",
          "data": {
            "text/plain": [
              "<Figure size 432x288 with 1 Axes>"
            ],
            "image/png": "[encoded data removed]"
          },
          "metadata": {
            "needs_background": "light"
          }
        }
      ]
    },
    {
      "cell_type": "markdown",
      "source": [
        "# **Предиктим тестовый набор данных**"
      ],
      "metadata": {
        "id": "Lhyry-vuwbPb"
      }
    },
    {
      "cell_type": "code",
      "source": [
        "# Загружаем датасет\n",
        "df_test = pd.read_csv('/content/drive/MyDrive/Предобученные сети/Дагенстан_ДТП/test_dataset_test.csv')"
      ],
      "metadata": {
        "id": "EWbJDcp9wgpA"
      },
      "execution_count": 29,
      "outputs": []
    },
    {
      "cell_type": "code",
      "source": [
        "df_test.drop(df_test.columns[[4,5,6,7,8]], axis=1, inplace=True) # Убираем лишнии столцы "
      ],
      "metadata": {
        "id": "_565Z7gGw65_"
      },
      "execution_count": 30,
      "outputs": []
    },
    {
      "cell_type": "code",
      "source": [
        "df_test['Вид ДТП'].fillna(value='Не известно', inplace=True) # Заменим пропуски на 'Иной вид ДТП'"
      ],
      "metadata": {
        "id": "4pQusPp4xNSV"
      },
      "execution_count": 31,
      "outputs": []
    },
    {
      "cell_type": "code",
      "source": [
        "# Объдиняем места, вида ДТП и временые интервалы\n",
        "df_test[\"Место\"] = df_test[\"Дата\"].astype(str) +  \" \" + df_test[\"Время\"].astype(str) + \" \" + df_test[\"Место\"].astype(str) + \" \" + df_test[\"Вид ДТП\"].astype(str) "
      ],
      "metadata": {
        "id": "mjMq6gIHxk64"
      },
      "execution_count": 32,
      "outputs": []
    },
    {
      "cell_type": "code",
      "source": [
        "df_test"
      ],
      "metadata": {
        "colab": {
          "base_uri": "https://localhost:8080/",
          "height": 424
        },
        "id": "obfaV6lDwqv4",
        "outputId": "1d2207e2-0f6f-4027-cc8d-b26531099378"
      },
      "execution_count": 33,
      "outputs": [
        {
          "output_type": "execute_result",
          "data": {
            "text/plain": [
              "             id        Дата     Время  \\\n",
              "0     490078911  31.01.2018  19:15:00   \n",
              "1     490055448  19.06.2019  10:15:00   \n",
              "2     490054440  28.06.2019  03:00:00   \n",
              "3     490037847  01.02.2019  13:15:00   \n",
              "4     490037049  08.02.2019  10:35:00   \n",
              "...         ...         ...       ...   \n",
              "6783  490014641  11.07.2020  23:15:00   \n",
              "6784  490033115  12.01.2020  15:20:00   \n",
              "6785  490008221  04.09.2020  20:05:00   \n",
              "6786  490119585  11.11.2018  16:25:00   \n",
              "6787  490109680  28.09.2018  12:45:00   \n",
              "\n",
              "                                                  Место               Вид ДТП  \n",
              "0     31.01.2018 19:15:00 Новгородская область, Вели...          Столкновение  \n",
              "1     19.06.2019 10:15:00 Новгородская область, Вели...          Столкновение  \n",
              "2     28.06.2019 03:00:00 Новгородская область, Вели...  Наезд на препятствие  \n",
              "3     01.02.2019 13:15:00 Новгородская область, Вели...  Наезд на препятствие  \n",
              "4     08.02.2019 10:35:00 Новгородская область, Окул...  Наезд на препятствие  \n",
              "...                                                 ...                   ...  \n",
              "6783  11.07.2020 23:15:00 Новгородская область, Боро...           Не известно  \n",
              "6784  12.01.2020 15:20:00 Новгородская область, Окул...           Не известно  \n",
              "6785  04.09.2020 20:05:00 Новгородская область, Новг...           Не известно  \n",
              "6786  11.11.2018 16:25:00 Новгородская область, Окул...          Столкновение  \n",
              "6787  28.09.2018 12:45:00 Новгородская область, Вели...          Столкновение  \n",
              "\n",
              "[6788 rows x 5 columns]"
            ],
            "text/html": [
              "\n",
              "  <div id=\"df-96e1f37e-2f0e-4078-be77-07a09d5f802f\">\n",
              "    <div class=\"colab-df-container\">\n",
              "      <div>\n",
              "<style scoped>\n",
              "    .dataframe tbody tr th:only-of-type {\n",
              "        vertical-align: middle;\n",
              "    }\n",
              "\n",
              "    .dataframe tbody tr th {\n",
              "        vertical-align: top;\n",
              "    }\n",
              "\n",
              "    .dataframe thead th {\n",
              "        text-align: right;\n",
              "    }\n",
              "</style>\n",
              "<table border=\"1\" class=\"dataframe\">\n",
              "  <thead>\n",
              "    <tr style=\"text-align: right;\">\n",
              "      <th></th>\n",
              "      <th>id</th>\n",
              "      <th>Дата</th>\n",
              "      <th>Время</th>\n",
              "      <th>Место</th>\n",
              "      <th>Вид ДТП</th>\n",
              "    </tr>\n",
              "  </thead>\n",
              "  <tbody>\n",
              "    <tr>\n",
              "      <th>0</th>\n",
              "      <td>490078911</td>\n",
              "      <td>31.01.2018</td>\n",
              "      <td>19:15:00</td>\n",
              "      <td>31.01.2018 19:15:00 Новгородская область, Вели...</td>\n",
              "      <td>Столкновение</td>\n",
              "    </tr>\n",
              "    <tr>\n",
              "      <th>1</th>\n",
              "      <td>490055448</td>\n",
              "      <td>19.06.2019</td>\n",
              "      <td>10:15:00</td>\n",
              "      <td>19.06.2019 10:15:00 Новгородская область, Вели...</td>\n",
              "      <td>Столкновение</td>\n",
              "    </tr>\n",
              "    <tr>\n",
              "      <th>2</th>\n",
              "      <td>490054440</td>\n",
              "      <td>28.06.2019</td>\n",
              "      <td>03:00:00</td>\n",
              "      <td>28.06.2019 03:00:00 Новгородская область, Вели...</td>\n",
              "      <td>Наезд на препятствие</td>\n",
              "    </tr>\n",
              "    <tr>\n",
              "      <th>3</th>\n",
              "      <td>490037847</td>\n",
              "      <td>01.02.2019</td>\n",
              "      <td>13:15:00</td>\n",
              "      <td>01.02.2019 13:15:00 Новгородская область, Вели...</td>\n",
              "      <td>Наезд на препятствие</td>\n",
              "    </tr>\n",
              "    <tr>\n",
              "      <th>4</th>\n",
              "      <td>490037049</td>\n",
              "      <td>08.02.2019</td>\n",
              "      <td>10:35:00</td>\n",
              "      <td>08.02.2019 10:35:00 Новгородская область, Окул...</td>\n",
              "      <td>Наезд на препятствие</td>\n",
              "    </tr>\n",
              "    <tr>\n",
              "      <th>...</th>\n",
              "      <td>...</td>\n",
              "      <td>...</td>\n",
              "      <td>...</td>\n",
              "      <td>...</td>\n",
              "      <td>...</td>\n",
              "    </tr>\n",
              "    <tr>\n",
              "      <th>6783</th>\n",
              "      <td>490014641</td>\n",
              "      <td>11.07.2020</td>\n",
              "      <td>23:15:00</td>\n",
              "      <td>11.07.2020 23:15:00 Новгородская область, Боро...</td>\n",
              "      <td>Не известно</td>\n",
              "    </tr>\n",
              "    <tr>\n",
              "      <th>6784</th>\n",
              "      <td>490033115</td>\n",
              "      <td>12.01.2020</td>\n",
              "      <td>15:20:00</td>\n",
              "      <td>12.01.2020 15:20:00 Новгородская область, Окул...</td>\n",
              "      <td>Не известно</td>\n",
              "    </tr>\n",
              "    <tr>\n",
              "      <th>6785</th>\n",
              "      <td>490008221</td>\n",
              "      <td>04.09.2020</td>\n",
              "      <td>20:05:00</td>\n",
              "      <td>04.09.2020 20:05:00 Новгородская область, Новг...</td>\n",
              "      <td>Не известно</td>\n",
              "    </tr>\n",
              "    <tr>\n",
              "      <th>6786</th>\n",
              "      <td>490119585</td>\n",
              "      <td>11.11.2018</td>\n",
              "      <td>16:25:00</td>\n",
              "      <td>11.11.2018 16:25:00 Новгородская область, Окул...</td>\n",
              "      <td>Столкновение</td>\n",
              "    </tr>\n",
              "    <tr>\n",
              "      <th>6787</th>\n",
              "      <td>490109680</td>\n",
              "      <td>28.09.2018</td>\n",
              "      <td>12:45:00</td>\n",
              "      <td>28.09.2018 12:45:00 Новгородская область, Вели...</td>\n",
              "      <td>Столкновение</td>\n",
              "    </tr>\n",
              "  </tbody>\n",
              "</table>\n",
              "<p>6788 rows × 5 columns</p>\n",
              "</div>\n",
              "      <button class=\"colab-df-convert\" onclick=\"convertToInteractive('df-96e1f37e-2f0e-4078-be77-07a09d5f802f')\"\n",
              "              title=\"Convert this dataframe to an interactive table.\"\n",
              "              style=\"display:none;\">\n",
              "        \n",
              "  <svg xmlns=\"http://www.w3.org/2000/svg\" height=\"24px\"viewBox=\"0 0 24 24\"\n",
              "       width=\"24px\">\n",
              "    <path d=\"M0 0h24v24H0V0z\" fill=\"none\"/>\n",
              "    <path d=\"M18.56 5.44l.94 2.06.94-2.06 2.06-.94-2.06-.94-.94-2.06-.94 2.06-2.06.94zm-11 1L8.5 8.5l.94-2.06 2.06-.94-2.06-.94L8.5 2.5l-.94 2.06-2.06.94zm10 10l.94 2.06.94-2.06 2.06-.94-2.06-.94-.94-2.06-.94 2.06-2.06.94z\"/><path d=\"M17.41 7.96l-1.37-1.37c-.4-.4-.92-.59-1.43-.59-.52 0-1.04.2-1.43.59L10.3 9.45l-7.72 7.72c-.78.78-.78 2.05 0 2.83L4 21.41c.39.39.9.59 1.41.59.51 0 1.02-.2 1.41-.59l7.78-7.78 2.81-2.81c.8-.78.8-2.07 0-2.86zM5.41 20L4 18.59l7.72-7.72 1.47 1.35L5.41 20z\"/>\n",
              "  </svg>\n",
              "      </button>\n",
              "      \n",
              "  <style>\n",
              "    .colab-df-container {\n",
              "      display:flex;\n",
              "      flex-wrap:wrap;\n",
              "      gap: 12px;\n",
              "    }\n",
              "\n",
              "    .colab-df-convert {\n",
              "      background-color: #E8F0FE;\n",
              "      border: none;\n",
              "      border-radius: 50%;\n",
              "      cursor: pointer;\n",
              "      display: none;\n",
              "      fill: #1967D2;\n",
              "      height: 32px;\n",
              "      padding: 0 0 0 0;\n",
              "      width: 32px;\n",
              "    }\n",
              "\n",
              "    .colab-df-convert:hover {\n",
              "      background-color: #E2EBFA;\n",
              "      box-shadow: 0px 1px 2px rgba(60, 64, 67, 0.3), 0px 1px 3px 1px rgba(60, 64, 67, 0.15);\n",
              "      fill: #174EA6;\n",
              "    }\n",
              "\n",
              "    [theme=dark] .colab-df-convert {\n",
              "      background-color: #3B4455;\n",
              "      fill: #D2E3FC;\n",
              "    }\n",
              "\n",
              "    [theme=dark] .colab-df-convert:hover {\n",
              "      background-color: #434B5C;\n",
              "      box-shadow: 0px 1px 3px 1px rgba(0, 0, 0, 0.15);\n",
              "      filter: drop-shadow(0px 1px 2px rgba(0, 0, 0, 0.3));\n",
              "      fill: #FFFFFF;\n",
              "    }\n",
              "  </style>\n",
              "\n",
              "      <script>\n",
              "        const buttonEl =\n",
              "          document.querySelector('#df-96e1f37e-2f0e-4078-be77-07a09d5f802f button.colab-df-convert');\n",
              "        buttonEl.style.display =\n",
              "          google.colab.kernel.accessAllowed ? 'block' : 'none';\n",
              "\n",
              "        async function convertToInteractive(key) {\n",
              "          const element = document.querySelector('#df-96e1f37e-2f0e-4078-be77-07a09d5f802f');\n",
              "          const dataTable =\n",
              "            await google.colab.kernel.invokeFunction('convertToInteractive',\n",
              "                                                     [key], {});\n",
              "          if (!dataTable) return;\n",
              "\n",
              "          const docLinkHtml = 'Like what you see? Visit the ' +\n",
              "            '<a target=\"_blank\" href=https://colab.research.google.com/notebooks/data_table.ipynb>data table notebook</a>'\n",
              "            + ' to learn more about interactive tables.';\n",
              "          element.innerHTML = '';\n",
              "          dataTable['output_type'] = 'display_data';\n",
              "          await google.colab.output.renderOutput(dataTable, element);\n",
              "          const docLink = document.createElement('div');\n",
              "          docLink.innerHTML = docLinkHtml;\n",
              "          element.appendChild(docLink);\n",
              "        }\n",
              "      </script>\n",
              "    </div>\n",
              "  </div>\n",
              "  "
            ]
          },
          "metadata": {},
          "execution_count": 33
        }
      ]
    },
    {
      "cell_type": "markdown",
      "source": [
        "**Определяем число \"Погибших\"**"
      ],
      "metadata": {
        "id": "Pq-xTfasxzns"
      }
    },
    {
      "cell_type": "code",
      "source": [
        "test_mess = np.array(df_test['Место']) # Переводим сообщения в массив\n",
        "x = tokenizer.texts_to_matrix(test_mess) # Токенизируем массив\n",
        "\n",
        "prediction = model.predict(x)\n",
        "\n",
        "for i in range(len(x)): # Циклом проходимся по токенизированному массиву\n",
        "  df_test.loc[i,'Погибло'] = np.argmax(prediction[i]) # Присваеваем категорию каждому обращению \n",
        "df_test = df_test.astype({'Погибло':'Int64'}) # Переводим цифры в целочисленный формат\n",
        "df_test # Смотрим что получилось"
      ],
      "metadata": {
        "colab": {
          "base_uri": "https://localhost:8080/",
          "height": 424
        },
        "id": "cHBJy-sKxylG",
        "outputId": "fb5e15b8-9774-4a44-9637-d3076e339eb7"
      },
      "execution_count": 34,
      "outputs": [
        {
          "output_type": "execute_result",
          "data": {
            "text/plain": [
              "             id        Дата     Время  \\\n",
              "0     490078911  31.01.2018  19:15:00   \n",
              "1     490055448  19.06.2019  10:15:00   \n",
              "2     490054440  28.06.2019  03:00:00   \n",
              "3     490037847  01.02.2019  13:15:00   \n",
              "4     490037049  08.02.2019  10:35:00   \n",
              "...         ...         ...       ...   \n",
              "6783  490014641  11.07.2020  23:15:00   \n",
              "6784  490033115  12.01.2020  15:20:00   \n",
              "6785  490008221  04.09.2020  20:05:00   \n",
              "6786  490119585  11.11.2018  16:25:00   \n",
              "6787  490109680  28.09.2018  12:45:00   \n",
              "\n",
              "                                                  Место               Вид ДТП  \\\n",
              "0     31.01.2018 19:15:00 Новгородская область, Вели...          Столкновение   \n",
              "1     19.06.2019 10:15:00 Новгородская область, Вели...          Столкновение   \n",
              "2     28.06.2019 03:00:00 Новгородская область, Вели...  Наезд на препятствие   \n",
              "3     01.02.2019 13:15:00 Новгородская область, Вели...  Наезд на препятствие   \n",
              "4     08.02.2019 10:35:00 Новгородская область, Окул...  Наезд на препятствие   \n",
              "...                                                 ...                   ...   \n",
              "6783  11.07.2020 23:15:00 Новгородская область, Боро...           Не известно   \n",
              "6784  12.01.2020 15:20:00 Новгородская область, Окул...           Не известно   \n",
              "6785  04.09.2020 20:05:00 Новгородская область, Новг...           Не известно   \n",
              "6786  11.11.2018 16:25:00 Новгородская область, Окул...          Столкновение   \n",
              "6787  28.09.2018 12:45:00 Новгородская область, Вели...          Столкновение   \n",
              "\n",
              "      Погибло  \n",
              "0           0  \n",
              "1           0  \n",
              "2           0  \n",
              "3           0  \n",
              "4           0  \n",
              "...       ...  \n",
              "6783        0  \n",
              "6784        0  \n",
              "6785        0  \n",
              "6786        0  \n",
              "6787        0  \n",
              "\n",
              "[6788 rows x 6 columns]"
            ],
            "text/html": [
              "\n",
              "  <div id=\"df-c31727d4-f4ed-43ce-a56d-79486fa84c17\">\n",
              "    <div class=\"colab-df-container\">\n",
              "      <div>\n",
              "<style scoped>\n",
              "    .dataframe tbody tr th:only-of-type {\n",
              "        vertical-align: middle;\n",
              "    }\n",
              "\n",
              "    .dataframe tbody tr th {\n",
              "        vertical-align: top;\n",
              "    }\n",
              "\n",
              "    .dataframe thead th {\n",
              "        text-align: right;\n",
              "    }\n",
              "</style>\n",
              "<table border=\"1\" class=\"dataframe\">\n",
              "  <thead>\n",
              "    <tr style=\"text-align: right;\">\n",
              "      <th></th>\n",
              "      <th>id</th>\n",
              "      <th>Дата</th>\n",
              "      <th>Время</th>\n",
              "      <th>Место</th>\n",
              "      <th>Вид ДТП</th>\n",
              "      <th>Погибло</th>\n",
              "    </tr>\n",
              "  </thead>\n",
              "  <tbody>\n",
              "    <tr>\n",
              "      <th>0</th>\n",
              "      <td>490078911</td>\n",
              "      <td>31.01.2018</td>\n",
              "      <td>19:15:00</td>\n",
              "      <td>31.01.2018 19:15:00 Новгородская область, Вели...</td>\n",
              "      <td>Столкновение</td>\n",
              "      <td>0</td>\n",
              "    </tr>\n",
              "    <tr>\n",
              "      <th>1</th>\n",
              "      <td>490055448</td>\n",
              "      <td>19.06.2019</td>\n",
              "      <td>10:15:00</td>\n",
              "      <td>19.06.2019 10:15:00 Новгородская область, Вели...</td>\n",
              "      <td>Столкновение</td>\n",
              "      <td>0</td>\n",
              "    </tr>\n",
              "    <tr>\n",
              "      <th>2</th>\n",
              "      <td>490054440</td>\n",
              "      <td>28.06.2019</td>\n",
              "      <td>03:00:00</td>\n",
              "      <td>28.06.2019 03:00:00 Новгородская область, Вели...</td>\n",
              "      <td>Наезд на препятствие</td>\n",
              "      <td>0</td>\n",
              "    </tr>\n",
              "    <tr>\n",
              "      <th>3</th>\n",
              "      <td>490037847</td>\n",
              "      <td>01.02.2019</td>\n",
              "      <td>13:15:00</td>\n",
              "      <td>01.02.2019 13:15:00 Новгородская область, Вели...</td>\n",
              "      <td>Наезд на препятствие</td>\n",
              "      <td>0</td>\n",
              "    </tr>\n",
              "    <tr>\n",
              "      <th>4</th>\n",
              "      <td>490037049</td>\n",
              "      <td>08.02.2019</td>\n",
              "      <td>10:35:00</td>\n",
              "      <td>08.02.2019 10:35:00 Новгородская область, Окул...</td>\n",
              "      <td>Наезд на препятствие</td>\n",
              "      <td>0</td>\n",
              "    </tr>\n",
              "    <tr>\n",
              "      <th>...</th>\n",
              "      <td>...</td>\n",
              "      <td>...</td>\n",
              "      <td>...</td>\n",
              "      <td>...</td>\n",
              "      <td>...</td>\n",
              "      <td>...</td>\n",
              "    </tr>\n",
              "    <tr>\n",
              "      <th>6783</th>\n",
              "      <td>490014641</td>\n",
              "      <td>11.07.2020</td>\n",
              "      <td>23:15:00</td>\n",
              "      <td>11.07.2020 23:15:00 Новгородская область, Боро...</td>\n",
              "      <td>Не известно</td>\n",
              "      <td>0</td>\n",
              "    </tr>\n",
              "    <tr>\n",
              "      <th>6784</th>\n",
              "      <td>490033115</td>\n",
              "      <td>12.01.2020</td>\n",
              "      <td>15:20:00</td>\n",
              "      <td>12.01.2020 15:20:00 Новгородская область, Окул...</td>\n",
              "      <td>Не известно</td>\n",
              "      <td>0</td>\n",
              "    </tr>\n",
              "    <tr>\n",
              "      <th>6785</th>\n",
              "      <td>490008221</td>\n",
              "      <td>04.09.2020</td>\n",
              "      <td>20:05:00</td>\n",
              "      <td>04.09.2020 20:05:00 Новгородская область, Новг...</td>\n",
              "      <td>Не известно</td>\n",
              "      <td>0</td>\n",
              "    </tr>\n",
              "    <tr>\n",
              "      <th>6786</th>\n",
              "      <td>490119585</td>\n",
              "      <td>11.11.2018</td>\n",
              "      <td>16:25:00</td>\n",
              "      <td>11.11.2018 16:25:00 Новгородская область, Окул...</td>\n",
              "      <td>Столкновение</td>\n",
              "      <td>0</td>\n",
              "    </tr>\n",
              "    <tr>\n",
              "      <th>6787</th>\n",
              "      <td>490109680</td>\n",
              "      <td>28.09.2018</td>\n",
              "      <td>12:45:00</td>\n",
              "      <td>28.09.2018 12:45:00 Новгородская область, Вели...</td>\n",
              "      <td>Столкновение</td>\n",
              "      <td>0</td>\n",
              "    </tr>\n",
              "  </tbody>\n",
              "</table>\n",
              "<p>6788 rows × 6 columns</p>\n",
              "</div>\n",
              "      <button class=\"colab-df-convert\" onclick=\"convertToInteractive('df-c31727d4-f4ed-43ce-a56d-79486fa84c17')\"\n",
              "              title=\"Convert this dataframe to an interactive table.\"\n",
              "              style=\"display:none;\">\n",
              "        \n",
              "  <svg xmlns=\"http://www.w3.org/2000/svg\" height=\"24px\"viewBox=\"0 0 24 24\"\n",
              "       width=\"24px\">\n",
              "    <path d=\"M0 0h24v24H0V0z\" fill=\"none\"/>\n",
              "    <path d=\"M18.56 5.44l.94 2.06.94-2.06 2.06-.94-2.06-.94-.94-2.06-.94 2.06-2.06.94zm-11 1L8.5 8.5l.94-2.06 2.06-.94-2.06-.94L8.5 2.5l-.94 2.06-2.06.94zm10 10l.94 2.06.94-2.06 2.06-.94-2.06-.94-.94-2.06-.94 2.06-2.06.94z\"/><path d=\"M17.41 7.96l-1.37-1.37c-.4-.4-.92-.59-1.43-.59-.52 0-1.04.2-1.43.59L10.3 9.45l-7.72 7.72c-.78.78-.78 2.05 0 2.83L4 21.41c.39.39.9.59 1.41.59.51 0 1.02-.2 1.41-.59l7.78-7.78 2.81-2.81c.8-.78.8-2.07 0-2.86zM5.41 20L4 18.59l7.72-7.72 1.47 1.35L5.41 20z\"/>\n",
              "  </svg>\n",
              "      </button>\n",
              "      \n",
              "  <style>\n",
              "    .colab-df-container {\n",
              "      display:flex;\n",
              "      flex-wrap:wrap;\n",
              "      gap: 12px;\n",
              "    }\n",
              "\n",
              "    .colab-df-convert {\n",
              "      background-color: #E8F0FE;\n",
              "      border: none;\n",
              "      border-radius: 50%;\n",
              "      cursor: pointer;\n",
              "      display: none;\n",
              "      fill: #1967D2;\n",
              "      height: 32px;\n",
              "      padding: 0 0 0 0;\n",
              "      width: 32px;\n",
              "    }\n",
              "\n",
              "    .colab-df-convert:hover {\n",
              "      background-color: #E2EBFA;\n",
              "      box-shadow: 0px 1px 2px rgba(60, 64, 67, 0.3), 0px 1px 3px 1px rgba(60, 64, 67, 0.15);\n",
              "      fill: #174EA6;\n",
              "    }\n",
              "\n",
              "    [theme=dark] .colab-df-convert {\n",
              "      background-color: #3B4455;\n",
              "      fill: #D2E3FC;\n",
              "    }\n",
              "\n",
              "    [theme=dark] .colab-df-convert:hover {\n",
              "      background-color: #434B5C;\n",
              "      box-shadow: 0px 1px 3px 1px rgba(0, 0, 0, 0.15);\n",
              "      filter: drop-shadow(0px 1px 2px rgba(0, 0, 0, 0.3));\n",
              "      fill: #FFFFFF;\n",
              "    }\n",
              "  </style>\n",
              "\n",
              "      <script>\n",
              "        const buttonEl =\n",
              "          document.querySelector('#df-c31727d4-f4ed-43ce-a56d-79486fa84c17 button.colab-df-convert');\n",
              "        buttonEl.style.display =\n",
              "          google.colab.kernel.accessAllowed ? 'block' : 'none';\n",
              "\n",
              "        async function convertToInteractive(key) {\n",
              "          const element = document.querySelector('#df-c31727d4-f4ed-43ce-a56d-79486fa84c17');\n",
              "          const dataTable =\n",
              "            await google.colab.kernel.invokeFunction('convertToInteractive',\n",
              "                                                     [key], {});\n",
              "          if (!dataTable) return;\n",
              "\n",
              "          const docLinkHtml = 'Like what you see? Visit the ' +\n",
              "            '<a target=\"_blank\" href=https://colab.research.google.com/notebooks/data_table.ipynb>data table notebook</a>'\n",
              "            + ' to learn more about interactive tables.';\n",
              "          element.innerHTML = '';\n",
              "          dataTable['output_type'] = 'display_data';\n",
              "          await google.colab.output.renderOutput(dataTable, element);\n",
              "          const docLink = document.createElement('div');\n",
              "          docLink.innerHTML = docLinkHtml;\n",
              "          element.appendChild(docLink);\n",
              "        }\n",
              "      </script>\n",
              "    </div>\n",
              "  </div>\n",
              "  "
            ]
          },
          "metadata": {},
          "execution_count": 34
        }
      ]
    },
    {
      "cell_type": "markdown",
      "source": [
        "**Определяем число \"Погибших детей\"**"
      ],
      "metadata": {
        "id": "X9dTdI_gyqBH"
      }
    },
    {
      "cell_type": "code",
      "source": [
        "test_mess = np.array(df_test['Место']) # Переводим сообщения в массив\n",
        "x = tokenizer.texts_to_matrix(test_mess) # Токенизируем массив\n",
        "\n",
        "prediction = model02.predict(x)\n",
        "\n",
        "for i in range(len(x)): # Циклом проходимся по токенизированному массиву\n",
        "  df_test.loc[i,'Погибло детей'] = np.argmax(prediction[i]) # Присваеваем категорию каждому обращению \n",
        "df_test = df_test.astype({'Погибло детей':'Int64'}) # Переводим цифры в целочисленный формат\n",
        "df_test # Смотрим что получилось"
      ],
      "metadata": {
        "colab": {
          "base_uri": "https://localhost:8080/",
          "height": 424
        },
        "id": "wx7_ah_Ty1MB",
        "outputId": "0c03ab38-b2d2-4ff0-f17d-277a50078ded"
      },
      "execution_count": 35,
      "outputs": [
        {
          "output_type": "execute_result",
          "data": {
            "text/plain": [
              "             id        Дата     Время  \\\n",
              "0     490078911  31.01.2018  19:15:00   \n",
              "1     490055448  19.06.2019  10:15:00   \n",
              "2     490054440  28.06.2019  03:00:00   \n",
              "3     490037847  01.02.2019  13:15:00   \n",
              "4     490037049  08.02.2019  10:35:00   \n",
              "...         ...         ...       ...   \n",
              "6783  490014641  11.07.2020  23:15:00   \n",
              "6784  490033115  12.01.2020  15:20:00   \n",
              "6785  490008221  04.09.2020  20:05:00   \n",
              "6786  490119585  11.11.2018  16:25:00   \n",
              "6787  490109680  28.09.2018  12:45:00   \n",
              "\n",
              "                                                  Место               Вид ДТП  \\\n",
              "0     31.01.2018 19:15:00 Новгородская область, Вели...          Столкновение   \n",
              "1     19.06.2019 10:15:00 Новгородская область, Вели...          Столкновение   \n",
              "2     28.06.2019 03:00:00 Новгородская область, Вели...  Наезд на препятствие   \n",
              "3     01.02.2019 13:15:00 Новгородская область, Вели...  Наезд на препятствие   \n",
              "4     08.02.2019 10:35:00 Новгородская область, Окул...  Наезд на препятствие   \n",
              "...                                                 ...                   ...   \n",
              "6783  11.07.2020 23:15:00 Новгородская область, Боро...           Не известно   \n",
              "6784  12.01.2020 15:20:00 Новгородская область, Окул...           Не известно   \n",
              "6785  04.09.2020 20:05:00 Новгородская область, Новг...           Не известно   \n",
              "6786  11.11.2018 16:25:00 Новгородская область, Окул...          Столкновение   \n",
              "6787  28.09.2018 12:45:00 Новгородская область, Вели...          Столкновение   \n",
              "\n",
              "      Погибло  Погибло детей  \n",
              "0           0              0  \n",
              "1           0              0  \n",
              "2           0              0  \n",
              "3           0              0  \n",
              "4           0              0  \n",
              "...       ...            ...  \n",
              "6783        0              0  \n",
              "6784        0              0  \n",
              "6785        0              0  \n",
              "6786        0              0  \n",
              "6787        0              0  \n",
              "\n",
              "[6788 rows x 7 columns]"
            ],
            "text/html": [
              "\n",
              "  <div id=\"df-de0e115b-a297-4490-8103-54a3d6bf0995\">\n",
              "    <div class=\"colab-df-container\">\n",
              "      <div>\n",
              "<style scoped>\n",
              "    .dataframe tbody tr th:only-of-type {\n",
              "        vertical-align: middle;\n",
              "    }\n",
              "\n",
              "    .dataframe tbody tr th {\n",
              "        vertical-align: top;\n",
              "    }\n",
              "\n",
              "    .dataframe thead th {\n",
              "        text-align: right;\n",
              "    }\n",
              "</style>\n",
              "<table border=\"1\" class=\"dataframe\">\n",
              "  <thead>\n",
              "    <tr style=\"text-align: right;\">\n",
              "      <th></th>\n",
              "      <th>id</th>\n",
              "      <th>Дата</th>\n",
              "      <th>Время</th>\n",
              "      <th>Место</th>\n",
              "      <th>Вид ДТП</th>\n",
              "      <th>Погибло</th>\n",
              "      <th>Погибло детей</th>\n",
              "    </tr>\n",
              "  </thead>\n",
              "  <tbody>\n",
              "    <tr>\n",
              "      <th>0</th>\n",
              "      <td>490078911</td>\n",
              "      <td>31.01.2018</td>\n",
              "      <td>19:15:00</td>\n",
              "      <td>31.01.2018 19:15:00 Новгородская область, Вели...</td>\n",
              "      <td>Столкновение</td>\n",
              "      <td>0</td>\n",
              "      <td>0</td>\n",
              "    </tr>\n",
              "    <tr>\n",
              "      <th>1</th>\n",
              "      <td>490055448</td>\n",
              "      <td>19.06.2019</td>\n",
              "      <td>10:15:00</td>\n",
              "      <td>19.06.2019 10:15:00 Новгородская область, Вели...</td>\n",
              "      <td>Столкновение</td>\n",
              "      <td>0</td>\n",
              "      <td>0</td>\n",
              "    </tr>\n",
              "    <tr>\n",
              "      <th>2</th>\n",
              "      <td>490054440</td>\n",
              "      <td>28.06.2019</td>\n",
              "      <td>03:00:00</td>\n",
              "      <td>28.06.2019 03:00:00 Новгородская область, Вели...</td>\n",
              "      <td>Наезд на препятствие</td>\n",
              "      <td>0</td>\n",
              "      <td>0</td>\n",
              "    </tr>\n",
              "    <tr>\n",
              "      <th>3</th>\n",
              "      <td>490037847</td>\n",
              "      <td>01.02.2019</td>\n",
              "      <td>13:15:00</td>\n",
              "      <td>01.02.2019 13:15:00 Новгородская область, Вели...</td>\n",
              "      <td>Наезд на препятствие</td>\n",
              "      <td>0</td>\n",
              "      <td>0</td>\n",
              "    </tr>\n",
              "    <tr>\n",
              "      <th>4</th>\n",
              "      <td>490037049</td>\n",
              "      <td>08.02.2019</td>\n",
              "      <td>10:35:00</td>\n",
              "      <td>08.02.2019 10:35:00 Новгородская область, Окул...</td>\n",
              "      <td>Наезд на препятствие</td>\n",
              "      <td>0</td>\n",
              "      <td>0</td>\n",
              "    </tr>\n",
              "    <tr>\n",
              "      <th>...</th>\n",
              "      <td>...</td>\n",
              "      <td>...</td>\n",
              "      <td>...</td>\n",
              "      <td>...</td>\n",
              "      <td>...</td>\n",
              "      <td>...</td>\n",
              "      <td>...</td>\n",
              "    </tr>\n",
              "    <tr>\n",
              "      <th>6783</th>\n",
              "      <td>490014641</td>\n",
              "      <td>11.07.2020</td>\n",
              "      <td>23:15:00</td>\n",
              "      <td>11.07.2020 23:15:00 Новгородская область, Боро...</td>\n",
              "      <td>Не известно</td>\n",
              "      <td>0</td>\n",
              "      <td>0</td>\n",
              "    </tr>\n",
              "    <tr>\n",
              "      <th>6784</th>\n",
              "      <td>490033115</td>\n",
              "      <td>12.01.2020</td>\n",
              "      <td>15:20:00</td>\n",
              "      <td>12.01.2020 15:20:00 Новгородская область, Окул...</td>\n",
              "      <td>Не известно</td>\n",
              "      <td>0</td>\n",
              "      <td>0</td>\n",
              "    </tr>\n",
              "    <tr>\n",
              "      <th>6785</th>\n",
              "      <td>490008221</td>\n",
              "      <td>04.09.2020</td>\n",
              "      <td>20:05:00</td>\n",
              "      <td>04.09.2020 20:05:00 Новгородская область, Новг...</td>\n",
              "      <td>Не известно</td>\n",
              "      <td>0</td>\n",
              "      <td>0</td>\n",
              "    </tr>\n",
              "    <tr>\n",
              "      <th>6786</th>\n",
              "      <td>490119585</td>\n",
              "      <td>11.11.2018</td>\n",
              "      <td>16:25:00</td>\n",
              "      <td>11.11.2018 16:25:00 Новгородская область, Окул...</td>\n",
              "      <td>Столкновение</td>\n",
              "      <td>0</td>\n",
              "      <td>0</td>\n",
              "    </tr>\n",
              "    <tr>\n",
              "      <th>6787</th>\n",
              "      <td>490109680</td>\n",
              "      <td>28.09.2018</td>\n",
              "      <td>12:45:00</td>\n",
              "      <td>28.09.2018 12:45:00 Новгородская область, Вели...</td>\n",
              "      <td>Столкновение</td>\n",
              "      <td>0</td>\n",
              "      <td>0</td>\n",
              "    </tr>\n",
              "  </tbody>\n",
              "</table>\n",
              "<p>6788 rows × 7 columns</p>\n",
              "</div>\n",
              "      <button class=\"colab-df-convert\" onclick=\"convertToInteractive('df-de0e115b-a297-4490-8103-54a3d6bf0995')\"\n",
              "              title=\"Convert this dataframe to an interactive table.\"\n",
              "              style=\"display:none;\">\n",
              "        \n",
              "  <svg xmlns=\"http://www.w3.org/2000/svg\" height=\"24px\"viewBox=\"0 0 24 24\"\n",
              "       width=\"24px\">\n",
              "    <path d=\"M0 0h24v24H0V0z\" fill=\"none\"/>\n",
              "    <path d=\"M18.56 5.44l.94 2.06.94-2.06 2.06-.94-2.06-.94-.94-2.06-.94 2.06-2.06.94zm-11 1L8.5 8.5l.94-2.06 2.06-.94-2.06-.94L8.5 2.5l-.94 2.06-2.06.94zm10 10l.94 2.06.94-2.06 2.06-.94-2.06-.94-.94-2.06-.94 2.06-2.06.94z\"/><path d=\"M17.41 7.96l-1.37-1.37c-.4-.4-.92-.59-1.43-.59-.52 0-1.04.2-1.43.59L10.3 9.45l-7.72 7.72c-.78.78-.78 2.05 0 2.83L4 21.41c.39.39.9.59 1.41.59.51 0 1.02-.2 1.41-.59l7.78-7.78 2.81-2.81c.8-.78.8-2.07 0-2.86zM5.41 20L4 18.59l7.72-7.72 1.47 1.35L5.41 20z\"/>\n",
              "  </svg>\n",
              "      </button>\n",
              "      \n",
              "  <style>\n",
              "    .colab-df-container {\n",
              "      display:flex;\n",
              "      flex-wrap:wrap;\n",
              "      gap: 12px;\n",
              "    }\n",
              "\n",
              "    .colab-df-convert {\n",
              "      background-color: #E8F0FE;\n",
              "      border: none;\n",
              "      border-radius: 50%;\n",
              "      cursor: pointer;\n",
              "      display: none;\n",
              "      fill: #1967D2;\n",
              "      height: 32px;\n",
              "      padding: 0 0 0 0;\n",
              "      width: 32px;\n",
              "    }\n",
              "\n",
              "    .colab-df-convert:hover {\n",
              "      background-color: #E2EBFA;\n",
              "      box-shadow: 0px 1px 2px rgba(60, 64, 67, 0.3), 0px 1px 3px 1px rgba(60, 64, 67, 0.15);\n",
              "      fill: #174EA6;\n",
              "    }\n",
              "\n",
              "    [theme=dark] .colab-df-convert {\n",
              "      background-color: #3B4455;\n",
              "      fill: #D2E3FC;\n",
              "    }\n",
              "\n",
              "    [theme=dark] .colab-df-convert:hover {\n",
              "      background-color: #434B5C;\n",
              "      box-shadow: 0px 1px 3px 1px rgba(0, 0, 0, 0.15);\n",
              "      filter: drop-shadow(0px 1px 2px rgba(0, 0, 0, 0.3));\n",
              "      fill: #FFFFFF;\n",
              "    }\n",
              "  </style>\n",
              "\n",
              "      <script>\n",
              "        const buttonEl =\n",
              "          document.querySelector('#df-de0e115b-a297-4490-8103-54a3d6bf0995 button.colab-df-convert');\n",
              "        buttonEl.style.display =\n",
              "          google.colab.kernel.accessAllowed ? 'block' : 'none';\n",
              "\n",
              "        async function convertToInteractive(key) {\n",
              "          const element = document.querySelector('#df-de0e115b-a297-4490-8103-54a3d6bf0995');\n",
              "          const dataTable =\n",
              "            await google.colab.kernel.invokeFunction('convertToInteractive',\n",
              "                                                     [key], {});\n",
              "          if (!dataTable) return;\n",
              "\n",
              "          const docLinkHtml = 'Like what you see? Visit the ' +\n",
              "            '<a target=\"_blank\" href=https://colab.research.google.com/notebooks/data_table.ipynb>data table notebook</a>'\n",
              "            + ' to learn more about interactive tables.';\n",
              "          element.innerHTML = '';\n",
              "          dataTable['output_type'] = 'display_data';\n",
              "          await google.colab.output.renderOutput(dataTable, element);\n",
              "          const docLink = document.createElement('div');\n",
              "          docLink.innerHTML = docLinkHtml;\n",
              "          element.appendChild(docLink);\n",
              "        }\n",
              "      </script>\n",
              "    </div>\n",
              "  </div>\n",
              "  "
            ]
          },
          "metadata": {},
          "execution_count": 35
        }
      ]
    },
    {
      "cell_type": "markdown",
      "source": [
        "**Определяем число \"Раненых\"**"
      ],
      "metadata": {
        "id": "Yyj7AKXpywF-"
      }
    },
    {
      "cell_type": "code",
      "source": [
        "test_mess = np.array(df_test['Место']) # Переводим сообщения в массив\n",
        "x = tokenizer.texts_to_matrix(test_mess) # Токенизируем массив\n",
        "\n",
        "prediction = model03.predict(x)\n",
        "\n",
        "for i in range(len(x)): # Циклом проходимся по токенизированному массиву\n",
        "  df_test.loc[i,'Ранено'] = np.argmax(prediction[i]) # Присваеваем категорию каждому обращению \n",
        "df_test = df_test.astype({'Ранено':'Int64'}) # Переводим цифры в целочисленный формат\n",
        "df_test # Смотрим что получилось"
      ],
      "metadata": {
        "colab": {
          "base_uri": "https://localhost:8080/",
          "height": 424
        },
        "id": "WJT63QKoy_ns",
        "outputId": "2225fcc0-375f-4164-c5df-c0f4ab0bff1c"
      },
      "execution_count": 36,
      "outputs": [
        {
          "output_type": "execute_result",
          "data": {
            "text/plain": [
              "             id        Дата     Время  \\\n",
              "0     490078911  31.01.2018  19:15:00   \n",
              "1     490055448  19.06.2019  10:15:00   \n",
              "2     490054440  28.06.2019  03:00:00   \n",
              "3     490037847  01.02.2019  13:15:00   \n",
              "4     490037049  08.02.2019  10:35:00   \n",
              "...         ...         ...       ...   \n",
              "6783  490014641  11.07.2020  23:15:00   \n",
              "6784  490033115  12.01.2020  15:20:00   \n",
              "6785  490008221  04.09.2020  20:05:00   \n",
              "6786  490119585  11.11.2018  16:25:00   \n",
              "6787  490109680  28.09.2018  12:45:00   \n",
              "\n",
              "                                                  Место               Вид ДТП  \\\n",
              "0     31.01.2018 19:15:00 Новгородская область, Вели...          Столкновение   \n",
              "1     19.06.2019 10:15:00 Новгородская область, Вели...          Столкновение   \n",
              "2     28.06.2019 03:00:00 Новгородская область, Вели...  Наезд на препятствие   \n",
              "3     01.02.2019 13:15:00 Новгородская область, Вели...  Наезд на препятствие   \n",
              "4     08.02.2019 10:35:00 Новгородская область, Окул...  Наезд на препятствие   \n",
              "...                                                 ...                   ...   \n",
              "6783  11.07.2020 23:15:00 Новгородская область, Боро...           Не известно   \n",
              "6784  12.01.2020 15:20:00 Новгородская область, Окул...           Не известно   \n",
              "6785  04.09.2020 20:05:00 Новгородская область, Новг...           Не известно   \n",
              "6786  11.11.2018 16:25:00 Новгородская область, Окул...          Столкновение   \n",
              "6787  28.09.2018 12:45:00 Новгородская область, Вели...          Столкновение   \n",
              "\n",
              "      Погибло  Погибло детей  Ранено  \n",
              "0           0              0       0  \n",
              "1           0              0       0  \n",
              "2           0              0       0  \n",
              "3           0              0       0  \n",
              "4           0              0       0  \n",
              "...       ...            ...     ...  \n",
              "6783        0              0       0  \n",
              "6784        0              0       0  \n",
              "6785        0              0       0  \n",
              "6786        0              0       0  \n",
              "6787        0              0       0  \n",
              "\n",
              "[6788 rows x 8 columns]"
            ],
            "text/html": [
              "\n",
              "  <div id=\"df-1c741e3b-fc20-4e49-bd41-419c86e21e24\">\n",
              "    <div class=\"colab-df-container\">\n",
              "      <div>\n",
              "<style scoped>\n",
              "    .dataframe tbody tr th:only-of-type {\n",
              "        vertical-align: middle;\n",
              "    }\n",
              "\n",
              "    .dataframe tbody tr th {\n",
              "        vertical-align: top;\n",
              "    }\n",
              "\n",
              "    .dataframe thead th {\n",
              "        text-align: right;\n",
              "    }\n",
              "</style>\n",
              "<table border=\"1\" class=\"dataframe\">\n",
              "  <thead>\n",
              "    <tr style=\"text-align: right;\">\n",
              "      <th></th>\n",
              "      <th>id</th>\n",
              "      <th>Дата</th>\n",
              "      <th>Время</th>\n",
              "      <th>Место</th>\n",
              "      <th>Вид ДТП</th>\n",
              "      <th>Погибло</th>\n",
              "      <th>Погибло детей</th>\n",
              "      <th>Ранено</th>\n",
              "    </tr>\n",
              "  </thead>\n",
              "  <tbody>\n",
              "    <tr>\n",
              "      <th>0</th>\n",
              "      <td>490078911</td>\n",
              "      <td>31.01.2018</td>\n",
              "      <td>19:15:00</td>\n",
              "      <td>31.01.2018 19:15:00 Новгородская область, Вели...</td>\n",
              "      <td>Столкновение</td>\n",
              "      <td>0</td>\n",
              "      <td>0</td>\n",
              "      <td>0</td>\n",
              "    </tr>\n",
              "    <tr>\n",
              "      <th>1</th>\n",
              "      <td>490055448</td>\n",
              "      <td>19.06.2019</td>\n",
              "      <td>10:15:00</td>\n",
              "      <td>19.06.2019 10:15:00 Новгородская область, Вели...</td>\n",
              "      <td>Столкновение</td>\n",
              "      <td>0</td>\n",
              "      <td>0</td>\n",
              "      <td>0</td>\n",
              "    </tr>\n",
              "    <tr>\n",
              "      <th>2</th>\n",
              "      <td>490054440</td>\n",
              "      <td>28.06.2019</td>\n",
              "      <td>03:00:00</td>\n",
              "      <td>28.06.2019 03:00:00 Новгородская область, Вели...</td>\n",
              "      <td>Наезд на препятствие</td>\n",
              "      <td>0</td>\n",
              "      <td>0</td>\n",
              "      <td>0</td>\n",
              "    </tr>\n",
              "    <tr>\n",
              "      <th>3</th>\n",
              "      <td>490037847</td>\n",
              "      <td>01.02.2019</td>\n",
              "      <td>13:15:00</td>\n",
              "      <td>01.02.2019 13:15:00 Новгородская область, Вели...</td>\n",
              "      <td>Наезд на препятствие</td>\n",
              "      <td>0</td>\n",
              "      <td>0</td>\n",
              "      <td>0</td>\n",
              "    </tr>\n",
              "    <tr>\n",
              "      <th>4</th>\n",
              "      <td>490037049</td>\n",
              "      <td>08.02.2019</td>\n",
              "      <td>10:35:00</td>\n",
              "      <td>08.02.2019 10:35:00 Новгородская область, Окул...</td>\n",
              "      <td>Наезд на препятствие</td>\n",
              "      <td>0</td>\n",
              "      <td>0</td>\n",
              "      <td>0</td>\n",
              "    </tr>\n",
              "    <tr>\n",
              "      <th>...</th>\n",
              "      <td>...</td>\n",
              "      <td>...</td>\n",
              "      <td>...</td>\n",
              "      <td>...</td>\n",
              "      <td>...</td>\n",
              "      <td>...</td>\n",
              "      <td>...</td>\n",
              "      <td>...</td>\n",
              "    </tr>\n",
              "    <tr>\n",
              "      <th>6783</th>\n",
              "      <td>490014641</td>\n",
              "      <td>11.07.2020</td>\n",
              "      <td>23:15:00</td>\n",
              "      <td>11.07.2020 23:15:00 Новгородская область, Боро...</td>\n",
              "      <td>Не известно</td>\n",
              "      <td>0</td>\n",
              "      <td>0</td>\n",
              "      <td>0</td>\n",
              "    </tr>\n",
              "    <tr>\n",
              "      <th>6784</th>\n",
              "      <td>490033115</td>\n",
              "      <td>12.01.2020</td>\n",
              "      <td>15:20:00</td>\n",
              "      <td>12.01.2020 15:20:00 Новгородская область, Окул...</td>\n",
              "      <td>Не известно</td>\n",
              "      <td>0</td>\n",
              "      <td>0</td>\n",
              "      <td>0</td>\n",
              "    </tr>\n",
              "    <tr>\n",
              "      <th>6785</th>\n",
              "      <td>490008221</td>\n",
              "      <td>04.09.2020</td>\n",
              "      <td>20:05:00</td>\n",
              "      <td>04.09.2020 20:05:00 Новгородская область, Новг...</td>\n",
              "      <td>Не известно</td>\n",
              "      <td>0</td>\n",
              "      <td>0</td>\n",
              "      <td>0</td>\n",
              "    </tr>\n",
              "    <tr>\n",
              "      <th>6786</th>\n",
              "      <td>490119585</td>\n",
              "      <td>11.11.2018</td>\n",
              "      <td>16:25:00</td>\n",
              "      <td>11.11.2018 16:25:00 Новгородская область, Окул...</td>\n",
              "      <td>Столкновение</td>\n",
              "      <td>0</td>\n",
              "      <td>0</td>\n",
              "      <td>0</td>\n",
              "    </tr>\n",
              "    <tr>\n",
              "      <th>6787</th>\n",
              "      <td>490109680</td>\n",
              "      <td>28.09.2018</td>\n",
              "      <td>12:45:00</td>\n",
              "      <td>28.09.2018 12:45:00 Новгородская область, Вели...</td>\n",
              "      <td>Столкновение</td>\n",
              "      <td>0</td>\n",
              "      <td>0</td>\n",
              "      <td>0</td>\n",
              "    </tr>\n",
              "  </tbody>\n",
              "</table>\n",
              "<p>6788 rows × 8 columns</p>\n",
              "</div>\n",
              "      <button class=\"colab-df-convert\" onclick=\"convertToInteractive('df-1c741e3b-fc20-4e49-bd41-419c86e21e24')\"\n",
              "              title=\"Convert this dataframe to an interactive table.\"\n",
              "              style=\"display:none;\">\n",
              "        \n",
              "  <svg xmlns=\"http://www.w3.org/2000/svg\" height=\"24px\"viewBox=\"0 0 24 24\"\n",
              "       width=\"24px\">\n",
              "    <path d=\"M0 0h24v24H0V0z\" fill=\"none\"/>\n",
              "    <path d=\"M18.56 5.44l.94 2.06.94-2.06 2.06-.94-2.06-.94-.94-2.06-.94 2.06-2.06.94zm-11 1L8.5 8.5l.94-2.06 2.06-.94-2.06-.94L8.5 2.5l-.94 2.06-2.06.94zm10 10l.94 2.06.94-2.06 2.06-.94-2.06-.94-.94-2.06-.94 2.06-2.06.94z\"/><path d=\"M17.41 7.96l-1.37-1.37c-.4-.4-.92-.59-1.43-.59-.52 0-1.04.2-1.43.59L10.3 9.45l-7.72 7.72c-.78.78-.78 2.05 0 2.83L4 21.41c.39.39.9.59 1.41.59.51 0 1.02-.2 1.41-.59l7.78-7.78 2.81-2.81c.8-.78.8-2.07 0-2.86zM5.41 20L4 18.59l7.72-7.72 1.47 1.35L5.41 20z\"/>\n",
              "  </svg>\n",
              "      </button>\n",
              "      \n",
              "  <style>\n",
              "    .colab-df-container {\n",
              "      display:flex;\n",
              "      flex-wrap:wrap;\n",
              "      gap: 12px;\n",
              "    }\n",
              "\n",
              "    .colab-df-convert {\n",
              "      background-color: #E8F0FE;\n",
              "      border: none;\n",
              "      border-radius: 50%;\n",
              "      cursor: pointer;\n",
              "      display: none;\n",
              "      fill: #1967D2;\n",
              "      height: 32px;\n",
              "      padding: 0 0 0 0;\n",
              "      width: 32px;\n",
              "    }\n",
              "\n",
              "    .colab-df-convert:hover {\n",
              "      background-color: #E2EBFA;\n",
              "      box-shadow: 0px 1px 2px rgba(60, 64, 67, 0.3), 0px 1px 3px 1px rgba(60, 64, 67, 0.15);\n",
              "      fill: #174EA6;\n",
              "    }\n",
              "\n",
              "    [theme=dark] .colab-df-convert {\n",
              "      background-color: #3B4455;\n",
              "      fill: #D2E3FC;\n",
              "    }\n",
              "\n",
              "    [theme=dark] .colab-df-convert:hover {\n",
              "      background-color: #434B5C;\n",
              "      box-shadow: 0px 1px 3px 1px rgba(0, 0, 0, 0.15);\n",
              "      filter: drop-shadow(0px 1px 2px rgba(0, 0, 0, 0.3));\n",
              "      fill: #FFFFFF;\n",
              "    }\n",
              "  </style>\n",
              "\n",
              "      <script>\n",
              "        const buttonEl =\n",
              "          document.querySelector('#df-1c741e3b-fc20-4e49-bd41-419c86e21e24 button.colab-df-convert');\n",
              "        buttonEl.style.display =\n",
              "          google.colab.kernel.accessAllowed ? 'block' : 'none';\n",
              "\n",
              "        async function convertToInteractive(key) {\n",
              "          const element = document.querySelector('#df-1c741e3b-fc20-4e49-bd41-419c86e21e24');\n",
              "          const dataTable =\n",
              "            await google.colab.kernel.invokeFunction('convertToInteractive',\n",
              "                                                     [key], {});\n",
              "          if (!dataTable) return;\n",
              "\n",
              "          const docLinkHtml = 'Like what you see? Visit the ' +\n",
              "            '<a target=\"_blank\" href=https://colab.research.google.com/notebooks/data_table.ipynb>data table notebook</a>'\n",
              "            + ' to learn more about interactive tables.';\n",
              "          element.innerHTML = '';\n",
              "          dataTable['output_type'] = 'display_data';\n",
              "          await google.colab.output.renderOutput(dataTable, element);\n",
              "          const docLink = document.createElement('div');\n",
              "          docLink.innerHTML = docLinkHtml;\n",
              "          element.appendChild(docLink);\n",
              "        }\n",
              "      </script>\n",
              "    </div>\n",
              "  </div>\n",
              "  "
            ]
          },
          "metadata": {},
          "execution_count": 36
        }
      ]
    },
    {
      "cell_type": "markdown",
      "source": [
        "**Определяем число \"Раненых детей\"**"
      ],
      "metadata": {
        "id": "D4_ejfGKyyyj"
      }
    },
    {
      "cell_type": "code",
      "source": [
        "test_mess = np.array(df_test['Место']) # Переводим сообщения в массив\n",
        "x = tokenizer.texts_to_matrix(test_mess) # Токенизируем массив\n",
        "\n",
        "prediction = model04.predict(x)\n",
        "\n",
        "for i in range(len(x)): # Циклом проходимся по токенизированному массиву\n",
        "  df_test.loc[i,'Ранено детей'] = np.argmax(prediction[i]) # Присваеваем категорию каждому обращению \n",
        "df_test = df_test.astype({'Ранено детей':'Int64'}) # Переводим цифры в целочисленный формат\n",
        "df_test # Смотрим что получилось"
      ],
      "metadata": {
        "colab": {
          "base_uri": "https://localhost:8080/",
          "height": 424
        },
        "id": "2iYvbdIvzLXp",
        "outputId": "8744dfe5-f81b-4539-eed2-03b3bf713dcc"
      },
      "execution_count": 37,
      "outputs": [
        {
          "output_type": "execute_result",
          "data": {
            "text/plain": [
              "             id        Дата     Время  \\\n",
              "0     490078911  31.01.2018  19:15:00   \n",
              "1     490055448  19.06.2019  10:15:00   \n",
              "2     490054440  28.06.2019  03:00:00   \n",
              "3     490037847  01.02.2019  13:15:00   \n",
              "4     490037049  08.02.2019  10:35:00   \n",
              "...         ...         ...       ...   \n",
              "6783  490014641  11.07.2020  23:15:00   \n",
              "6784  490033115  12.01.2020  15:20:00   \n",
              "6785  490008221  04.09.2020  20:05:00   \n",
              "6786  490119585  11.11.2018  16:25:00   \n",
              "6787  490109680  28.09.2018  12:45:00   \n",
              "\n",
              "                                                  Место               Вид ДТП  \\\n",
              "0     31.01.2018 19:15:00 Новгородская область, Вели...          Столкновение   \n",
              "1     19.06.2019 10:15:00 Новгородская область, Вели...          Столкновение   \n",
              "2     28.06.2019 03:00:00 Новгородская область, Вели...  Наезд на препятствие   \n",
              "3     01.02.2019 13:15:00 Новгородская область, Вели...  Наезд на препятствие   \n",
              "4     08.02.2019 10:35:00 Новгородская область, Окул...  Наезд на препятствие   \n",
              "...                                                 ...                   ...   \n",
              "6783  11.07.2020 23:15:00 Новгородская область, Боро...           Не известно   \n",
              "6784  12.01.2020 15:20:00 Новгородская область, Окул...           Не известно   \n",
              "6785  04.09.2020 20:05:00 Новгородская область, Новг...           Не известно   \n",
              "6786  11.11.2018 16:25:00 Новгородская область, Окул...          Столкновение   \n",
              "6787  28.09.2018 12:45:00 Новгородская область, Вели...          Столкновение   \n",
              "\n",
              "      Погибло  Погибло детей  Ранено  Ранено детей  \n",
              "0           0              0       0             0  \n",
              "1           0              0       0             0  \n",
              "2           0              0       0             0  \n",
              "3           0              0       0             0  \n",
              "4           0              0       0             0  \n",
              "...       ...            ...     ...           ...  \n",
              "6783        0              0       0             0  \n",
              "6784        0              0       0             0  \n",
              "6785        0              0       0             0  \n",
              "6786        0              0       0             0  \n",
              "6787        0              0       0             0  \n",
              "\n",
              "[6788 rows x 9 columns]"
            ],
            "text/html": [
              "\n",
              "  <div id=\"df-51e92f03-2761-4a52-b3b5-3a039eb593f5\">\n",
              "    <div class=\"colab-df-container\">\n",
              "      <div>\n",
              "<style scoped>\n",
              "    .dataframe tbody tr th:only-of-type {\n",
              "        vertical-align: middle;\n",
              "    }\n",
              "\n",
              "    .dataframe tbody tr th {\n",
              "        vertical-align: top;\n",
              "    }\n",
              "\n",
              "    .dataframe thead th {\n",
              "        text-align: right;\n",
              "    }\n",
              "</style>\n",
              "<table border=\"1\" class=\"dataframe\">\n",
              "  <thead>\n",
              "    <tr style=\"text-align: right;\">\n",
              "      <th></th>\n",
              "      <th>id</th>\n",
              "      <th>Дата</th>\n",
              "      <th>Время</th>\n",
              "      <th>Место</th>\n",
              "      <th>Вид ДТП</th>\n",
              "      <th>Погибло</th>\n",
              "      <th>Погибло детей</th>\n",
              "      <th>Ранено</th>\n",
              "      <th>Ранено детей</th>\n",
              "    </tr>\n",
              "  </thead>\n",
              "  <tbody>\n",
              "    <tr>\n",
              "      <th>0</th>\n",
              "      <td>490078911</td>\n",
              "      <td>31.01.2018</td>\n",
              "      <td>19:15:00</td>\n",
              "      <td>31.01.2018 19:15:00 Новгородская область, Вели...</td>\n",
              "      <td>Столкновение</td>\n",
              "      <td>0</td>\n",
              "      <td>0</td>\n",
              "      <td>0</td>\n",
              "      <td>0</td>\n",
              "    </tr>\n",
              "    <tr>\n",
              "      <th>1</th>\n",
              "      <td>490055448</td>\n",
              "      <td>19.06.2019</td>\n",
              "      <td>10:15:00</td>\n",
              "      <td>19.06.2019 10:15:00 Новгородская область, Вели...</td>\n",
              "      <td>Столкновение</td>\n",
              "      <td>0</td>\n",
              "      <td>0</td>\n",
              "      <td>0</td>\n",
              "      <td>0</td>\n",
              "    </tr>\n",
              "    <tr>\n",
              "      <th>2</th>\n",
              "      <td>490054440</td>\n",
              "      <td>28.06.2019</td>\n",
              "      <td>03:00:00</td>\n",
              "      <td>28.06.2019 03:00:00 Новгородская область, Вели...</td>\n",
              "      <td>Наезд на препятствие</td>\n",
              "      <td>0</td>\n",
              "      <td>0</td>\n",
              "      <td>0</td>\n",
              "      <td>0</td>\n",
              "    </tr>\n",
              "    <tr>\n",
              "      <th>3</th>\n",
              "      <td>490037847</td>\n",
              "      <td>01.02.2019</td>\n",
              "      <td>13:15:00</td>\n",
              "      <td>01.02.2019 13:15:00 Новгородская область, Вели...</td>\n",
              "      <td>Наезд на препятствие</td>\n",
              "      <td>0</td>\n",
              "      <td>0</td>\n",
              "      <td>0</td>\n",
              "      <td>0</td>\n",
              "    </tr>\n",
              "    <tr>\n",
              "      <th>4</th>\n",
              "      <td>490037049</td>\n",
              "      <td>08.02.2019</td>\n",
              "      <td>10:35:00</td>\n",
              "      <td>08.02.2019 10:35:00 Новгородская область, Окул...</td>\n",
              "      <td>Наезд на препятствие</td>\n",
              "      <td>0</td>\n",
              "      <td>0</td>\n",
              "      <td>0</td>\n",
              "      <td>0</td>\n",
              "    </tr>\n",
              "    <tr>\n",
              "      <th>...</th>\n",
              "      <td>...</td>\n",
              "      <td>...</td>\n",
              "      <td>...</td>\n",
              "      <td>...</td>\n",
              "      <td>...</td>\n",
              "      <td>...</td>\n",
              "      <td>...</td>\n",
              "      <td>...</td>\n",
              "      <td>...</td>\n",
              "    </tr>\n",
              "    <tr>\n",
              "      <th>6783</th>\n",
              "      <td>490014641</td>\n",
              "      <td>11.07.2020</td>\n",
              "      <td>23:15:00</td>\n",
              "      <td>11.07.2020 23:15:00 Новгородская область, Боро...</td>\n",
              "      <td>Не известно</td>\n",
              "      <td>0</td>\n",
              "      <td>0</td>\n",
              "      <td>0</td>\n",
              "      <td>0</td>\n",
              "    </tr>\n",
              "    <tr>\n",
              "      <th>6784</th>\n",
              "      <td>490033115</td>\n",
              "      <td>12.01.2020</td>\n",
              "      <td>15:20:00</td>\n",
              "      <td>12.01.2020 15:20:00 Новгородская область, Окул...</td>\n",
              "      <td>Не известно</td>\n",
              "      <td>0</td>\n",
              "      <td>0</td>\n",
              "      <td>0</td>\n",
              "      <td>0</td>\n",
              "    </tr>\n",
              "    <tr>\n",
              "      <th>6785</th>\n",
              "      <td>490008221</td>\n",
              "      <td>04.09.2020</td>\n",
              "      <td>20:05:00</td>\n",
              "      <td>04.09.2020 20:05:00 Новгородская область, Новг...</td>\n",
              "      <td>Не известно</td>\n",
              "      <td>0</td>\n",
              "      <td>0</td>\n",
              "      <td>0</td>\n",
              "      <td>0</td>\n",
              "    </tr>\n",
              "    <tr>\n",
              "      <th>6786</th>\n",
              "      <td>490119585</td>\n",
              "      <td>11.11.2018</td>\n",
              "      <td>16:25:00</td>\n",
              "      <td>11.11.2018 16:25:00 Новгородская область, Окул...</td>\n",
              "      <td>Столкновение</td>\n",
              "      <td>0</td>\n",
              "      <td>0</td>\n",
              "      <td>0</td>\n",
              "      <td>0</td>\n",
              "    </tr>\n",
              "    <tr>\n",
              "      <th>6787</th>\n",
              "      <td>490109680</td>\n",
              "      <td>28.09.2018</td>\n",
              "      <td>12:45:00</td>\n",
              "      <td>28.09.2018 12:45:00 Новгородская область, Вели...</td>\n",
              "      <td>Столкновение</td>\n",
              "      <td>0</td>\n",
              "      <td>0</td>\n",
              "      <td>0</td>\n",
              "      <td>0</td>\n",
              "    </tr>\n",
              "  </tbody>\n",
              "</table>\n",
              "<p>6788 rows × 9 columns</p>\n",
              "</div>\n",
              "      <button class=\"colab-df-convert\" onclick=\"convertToInteractive('df-51e92f03-2761-4a52-b3b5-3a039eb593f5')\"\n",
              "              title=\"Convert this dataframe to an interactive table.\"\n",
              "              style=\"display:none;\">\n",
              "        \n",
              "  <svg xmlns=\"http://www.w3.org/2000/svg\" height=\"24px\"viewBox=\"0 0 24 24\"\n",
              "       width=\"24px\">\n",
              "    <path d=\"M0 0h24v24H0V0z\" fill=\"none\"/>\n",
              "    <path d=\"M18.56 5.44l.94 2.06.94-2.06 2.06-.94-2.06-.94-.94-2.06-.94 2.06-2.06.94zm-11 1L8.5 8.5l.94-2.06 2.06-.94-2.06-.94L8.5 2.5l-.94 2.06-2.06.94zm10 10l.94 2.06.94-2.06 2.06-.94-2.06-.94-.94-2.06-.94 2.06-2.06.94z\"/><path d=\"M17.41 7.96l-1.37-1.37c-.4-.4-.92-.59-1.43-.59-.52 0-1.04.2-1.43.59L10.3 9.45l-7.72 7.72c-.78.78-.78 2.05 0 2.83L4 21.41c.39.39.9.59 1.41.59.51 0 1.02-.2 1.41-.59l7.78-7.78 2.81-2.81c.8-.78.8-2.07 0-2.86zM5.41 20L4 18.59l7.72-7.72 1.47 1.35L5.41 20z\"/>\n",
              "  </svg>\n",
              "      </button>\n",
              "      \n",
              "  <style>\n",
              "    .colab-df-container {\n",
              "      display:flex;\n",
              "      flex-wrap:wrap;\n",
              "      gap: 12px;\n",
              "    }\n",
              "\n",
              "    .colab-df-convert {\n",
              "      background-color: #E8F0FE;\n",
              "      border: none;\n",
              "      border-radius: 50%;\n",
              "      cursor: pointer;\n",
              "      display: none;\n",
              "      fill: #1967D2;\n",
              "      height: 32px;\n",
              "      padding: 0 0 0 0;\n",
              "      width: 32px;\n",
              "    }\n",
              "\n",
              "    .colab-df-convert:hover {\n",
              "      background-color: #E2EBFA;\n",
              "      box-shadow: 0px 1px 2px rgba(60, 64, 67, 0.3), 0px 1px 3px 1px rgba(60, 64, 67, 0.15);\n",
              "      fill: #174EA6;\n",
              "    }\n",
              "\n",
              "    [theme=dark] .colab-df-convert {\n",
              "      background-color: #3B4455;\n",
              "      fill: #D2E3FC;\n",
              "    }\n",
              "\n",
              "    [theme=dark] .colab-df-convert:hover {\n",
              "      background-color: #434B5C;\n",
              "      box-shadow: 0px 1px 3px 1px rgba(0, 0, 0, 0.15);\n",
              "      filter: drop-shadow(0px 1px 2px rgba(0, 0, 0, 0.3));\n",
              "      fill: #FFFFFF;\n",
              "    }\n",
              "  </style>\n",
              "\n",
              "      <script>\n",
              "        const buttonEl =\n",
              "          document.querySelector('#df-51e92f03-2761-4a52-b3b5-3a039eb593f5 button.colab-df-convert');\n",
              "        buttonEl.style.display =\n",
              "          google.colab.kernel.accessAllowed ? 'block' : 'none';\n",
              "\n",
              "        async function convertToInteractive(key) {\n",
              "          const element = document.querySelector('#df-51e92f03-2761-4a52-b3b5-3a039eb593f5');\n",
              "          const dataTable =\n",
              "            await google.colab.kernel.invokeFunction('convertToInteractive',\n",
              "                                                     [key], {});\n",
              "          if (!dataTable) return;\n",
              "\n",
              "          const docLinkHtml = 'Like what you see? Visit the ' +\n",
              "            '<a target=\"_blank\" href=https://colab.research.google.com/notebooks/data_table.ipynb>data table notebook</a>'\n",
              "            + ' to learn more about interactive tables.';\n",
              "          element.innerHTML = '';\n",
              "          dataTable['output_type'] = 'display_data';\n",
              "          await google.colab.output.renderOutput(dataTable, element);\n",
              "          const docLink = document.createElement('div');\n",
              "          docLink.innerHTML = docLinkHtml;\n",
              "          element.appendChild(docLink);\n",
              "        }\n",
              "      </script>\n",
              "    </div>\n",
              "  </div>\n",
              "  "
            ]
          },
          "metadata": {},
          "execution_count": 37
        }
      ]
    },
    {
      "cell_type": "markdown",
      "source": [
        "**Приводим тестовый набор к формату для сдачи жури**"
      ],
      "metadata": {
        "id": "UQmzBQgZzZCq"
      }
    },
    {
      "cell_type": "code",
      "source": [
        "# Удаляем колонку с текстом \n",
        "df_test.drop(df_test.columns[[1,2,3,4]], axis=1, inplace=True)"
      ],
      "metadata": {
        "id": "kPUmYDk0zYXD"
      },
      "execution_count": 38,
      "outputs": []
    },
    {
      "cell_type": "code",
      "source": [
        "# Сохраняем файл в формете .csv без индексов\n",
        "df_test.to_csv('/content/drive/MyDrive/Предобученные сети/Дагенстан_ДТП/df_test_DTP_7_all_train.csv', index=False)"
      ],
      "metadata": {
        "id": "ah8R7GMazupy"
      },
      "execution_count": 39,
      "outputs": []
    },
    {
      "cell_type": "markdown",
      "source": [
        " **Score = 0.419469**\n"
      ],
      "metadata": {
        "id": "4Rqo09lt0kWc"
      }
    }
  ]
}